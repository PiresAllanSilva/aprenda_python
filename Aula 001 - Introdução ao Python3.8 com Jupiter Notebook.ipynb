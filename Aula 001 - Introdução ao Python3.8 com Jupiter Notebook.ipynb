{
 "cells": [
  {
   "cell_type": "markdown",
   "id": "f09239de",
   "metadata": {},
   "source": [
    "# Breve descrição e dicas de livros, vídeos e ebooks\n",
    "### O que é Python"
   ]
  },
  {
   "cell_type": "markdown",
   "id": "6c3e0433",
   "metadata": {},
   "source": [
    "<div style=\"text-align: justify\">\n",
    "Como primeira linguagem de programação, Python é uma liguagem deveras interessante, pois por ser clara é de fácil aprendizado. Criado em 1991 por <strong><a href=\"https://pt.wikipedia.org/wiki/Python\">Guido van Rossum</a></strong>. Um fator que auxilia muito na popularidade desta linguagem é o fato de ela apresentar um modelo de desenvolvimento comunitário, sendo gerenciado pela organização sem fins lucrativos <em>Python Software Foundation</em>. Atualmente está na versão 3.9, sendo que em breve será lançado a <a href=\"https://docs.python.org/pt-br/3/whatsnew/index.html\">versão 3.10</a>.\n",
    "</div>"
   ]
  },
  {
   "cell_type": "markdown",
   "id": "b0fbd8ae",
   "metadata": {},
   "source": [
    "### Dicas de livros para iniciantes"
   ]
  },
  {
   "cell_type": "markdown",
   "id": "3a7992e6",
   "metadata": {},
   "source": [
    "<div style=\"text-align: justify\">\n",
    "Uma consulta rápida em aplicativos como <strong>Amazon</strong> por livros relacionado ao aprendizado de Python, resultará em uma lista muito vasta de livros que podem ser comprados. Os temas dos livros são variados, os quais podem abordar assuntos que vão desde a introdução a linguagem bem como assuntos mais avançados como <em>Machine Learning</em>, <em>Datascience</em>, etc. Para as pessoas que querem aprender Python do zero, uma busca como esta pode se tornar uma tarefa um pouco desafiadora, visto o pouco ou nenhum conhecimento para escolher um livro adequado ao nível atual. Desta forma, aqui indico algumas opções para quem assim como em quer sair do zero:\n",
    "\n",
    "<ol>\n",
    "    <li>Introdução à programação com python, Algoritmos e lógica de programação para iniciantes, 3ª Edição, Novatec, Nilo Ney Coutinho Menezes, <strong>ISBN 978-85-7522-718-3</strong>, 2019</li>\n",
    "    <li>Curso intensivo de python, Uma introdução prática e baseada em projetos à programação, 1ª Edição, Novatec, Eric Matheus, <strong>ISBN 978-1-59327-603-4</strong>, 2016</li>\n",
    "</ol>\n",
    "</div>"
   ]
  },
  {
   "cell_type": "markdown",
   "id": "58c377a9",
   "metadata": {},
   "source": [
    "### Outros canais de aprendizado"
   ]
  },
  {
   "cell_type": "markdown",
   "id": "29eaac86",
   "metadata": {},
   "source": [
    "1. Youtube  \n",
    "    * [Curso em vídeo: playlist Python mundo 1](https://www.youtube.com/watch?v=S9uPNppGsGo&list=PLHz_AreHm4dlKP6QQCekuIPky1CiwmdI6&ab_channel=CursoemV%C3%ADdeo)\n",
    "    * [Curso em vídeo: playlist Python mundo 2](https://www.youtube.com/watch?v=nJkVHusJp6E&list=PLHz_AreHm4dk_nZHmxxf_J0WRAqy5Czye&ab_channel=CursoemV%C3%ADdeo)\n",
    "    * [Curso em vídeo: playlist Python mundo 3](https://www.youtube.com/watch?v=0LB3FSfjvao&list=PLHz_AreHm4dksnH2jVTIVNviIMBVYyFnH&ab_channel=CursoemV%C3%ADdeo)\n",
    "    * [Curso em vídeo: playlist de exercícios dos mundos](https://www.youtube.com/watch?v=nIHq1MtJaKs&list=PLHz_AreHm4dm6wYOIW20Nyg12TAjmMGT-&ab_channel=CursoemV%C3%ADdeo)\n",
    "    * [Dunosauro: Live de python](https://www.youtube.com/user/mendesesduardo)\n",
    "    * [Filipe Deschamps](https://www.youtube.com/channel/UCU5JicSrEM5A63jkJ2QvGYw)\n",
    "\n",
    "2. Ebooks\n",
    "    * [Pense python](https://penseallen.github.io/PensePython2e/)\n",
    "    * [Python e outros](https://github.com/EbookFoundation/free-programming-books/blob/master/books/free-programming-books-pt_BR.md#python)"
   ]
  },
  {
   "cell_type": "markdown",
   "id": "9e665cf1",
   "metadata": {},
   "source": [
    "### Instalando Python"
   ]
  },
  {
   "cell_type": "markdown",
   "id": "d385a7ee",
   "metadata": {},
   "source": [
    "1. [Ubuntu](https://python.org.br/instalacao-linux/)\n",
    "2. [Windows](https://python.org.br/instalacao-windows/)\n",
    "3. [Mac](https://python.org.br/instalacao-mac/)"
   ]
  },
  {
   "cell_type": "markdown",
   "id": "49df87a1",
   "metadata": {},
   "source": [
    "### Aprenda mais sobre Jupyter Notebook"
   ]
  },
  {
   "cell_type": "markdown",
   "id": "27149e8f",
   "metadata": {},
   "source": [
    "<div style=\"text-align: justify\">\n",
    "Uma forma de aprender rapidamente Python é usar ferramentas como o Jupyter Notebook. Desta forma, fica evidente que um aprendizado do que é esta ferramenta e como melhor utilizar seus recursos se faz necessário. Indico o aprofundamento na <a href=\"https://jupyter.org/\">documentação</a> do mesmo, pois há algumas opções de usos. Uma forma rápida de usar Jupyter Notebook para resolver o que é abordado nestas aulas é executar o que está declarado no README deste projeto, podendo ter um melhor aprofundamento após aprender o básico de Python.\n",
    "</div>"
   ]
  },
  {
   "cell_type": "markdown",
   "id": "f810b1f3",
   "metadata": {},
   "source": [
    "# Primeiros passos com Python\n",
    "### Um pequeno código mas um grande passo à programação"
   ]
  },
  {
   "cell_type": "markdown",
   "id": "e915f905",
   "metadata": {},
   "source": [
    "<div style=\"text-align: justify\">\n",
    "É comum aos iniciantes em qualquer linguagem de programação, aprender a fazer o básico de uma linguagem, que é imprimir uma mensagem de texto. Uma mensagem pode ser impressa em Python da seguinte forma:\n",
    "</div>"
   ]
  },
  {
   "cell_type": "code",
   "execution_count": 4,
   "id": "417e6655",
   "metadata": {},
   "outputs": [
    {
     "name": "stdout",
     "output_type": "stream",
     "text": [
      "Olá Mundo!\n"
     ]
    }
   ],
   "source": [
    "mensagem = 'Olá Mundo!'\n",
    "print(mensagem)"
   ]
  },
  {
   "cell_type": "markdown",
   "id": "8de2a4e1",
   "metadata": {},
   "source": [
    "Vejamos o que aconteceu no pequeno trecho de código acima:\n",
    "\n",
    "<ol>\n",
    "    <li>uma variável nomeada de <em>mensagem</em> recebeu um valor do tipo <em>string</em> que formava a frase <strong>Olá mundo!</strong>;</li>\n",
    "    <li>a seguir, foi chamada uma função com nome <em>print()</em>, a qual simplesmente imprime o valor da string contida em mensagem.</li>\n",
    "</ol>"
   ]
  },
  {
   "cell_type": "markdown",
   "id": "8c532377",
   "metadata": {},
   "source": [
    "<div style=\"text-align: justify\">\n",
    "Se você é iniciante, talvez nesta parte da explicação, pelo menos quatro termos podem ter te chamado a atenção: variável, recebeu, string e função. <strong>Variável</strong> é um local da memória do computador que pode armazenar um valor. Este valor fica armazenado em um local da memória até que seja necessário o seu uso. <strong>Receber</strong>, no contexto do Python, significa que uma variável <em>x</em> (como <em>mensagem</em>) armazena um conteúdo conteúdo qualquer (como <em>Olá mundo</em>). <strong>String</strong> é um dos tipos contidos em Python, sendo talvez um dos mais comuns. Outros tipos, que serão abordados em momento oportuno, são <em>int</em>, <em>float</em>, <em>byte</em>, etc. <strong>Funçao</strong> é um trecho de código que recebe um argumento (como <em>mensagem</em>) e, após processamento do argumento, pode simplesmente imprimir ou realizar ações mais complexas, como retornar um objeto diferente do que aquele passado como argumento. Em momento oportuno, tal assunto será melhor exclarecido.\n",
    "</div>"
   ]
  },
  {
   "cell_type": "code",
   "execution_count": null,
   "id": "a1846f21",
   "metadata": {},
   "outputs": [],
   "source": []
  }
 ],
 "metadata": {
  "kernelspec": {
   "display_name": "Python 3 (ipykernel)",
   "language": "python",
   "name": "python3"
  },
  "language_info": {
   "codemirror_mode": {
    "name": "ipython",
    "version": 3
   },
   "file_extension": ".py",
   "mimetype": "text/x-python",
   "name": "python",
   "nbconvert_exporter": "python",
   "pygments_lexer": "ipython3",
   "version": "3.8.10"
  }
 },
 "nbformat": 4,
 "nbformat_minor": 5
}
