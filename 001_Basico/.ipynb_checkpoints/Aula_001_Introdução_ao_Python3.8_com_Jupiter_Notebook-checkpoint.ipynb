{
 "cells": [
  {
   "cell_type": "markdown",
   "id": "f09239de",
   "metadata": {},
   "source": [
    "# Breve descrição e dicas de livros, vídeos e ebooks\n",
    "### O que é Python"
   ]
  },
  {
   "cell_type": "markdown",
   "id": "6c3e0433",
   "metadata": {},
   "source": [
    "<div style=\"text-align: justify\">\n",
    "Como primeira linguagem de programação, Python é uma liguagem deveras interessante, pois por ser clara é de fácil aprendizado. Criado em 1991 por <strong><a href=\"https://pt.wikipedia.org/wiki/Python\">Guido van Rossum</a></strong>. Um fator que auxilia muito na popularidade desta linguagem é o fato de ela apresentar um modelo de desenvolvimento comunitário, sendo gerenciado pela organização sem fins lucrativos <em>Python Software Foundation</em>. Atualmente está na versão 3.9, sendo que em breve será lançado a <a href=\"https://docs.python.org/pt-br/3/whatsnew/index.html\">versão 3.10</a>.\n",
    "</div>"
   ]
  },
  {
   "cell_type": "markdown",
   "id": "b0fbd8ae",
   "metadata": {},
   "source": [
    "### Dicas de livros para iniciantes"
   ]
  },
  {
   "cell_type": "markdown",
   "id": "3a7992e6",
   "metadata": {},
   "source": [
    "<div style=\"text-align: justify\">\n",
    "Uma consulta rápida em aplicativos como <strong>Amazon</strong> por livros relacionado ao aprendizado de Python, resultará em uma lista muito vasta de livros que podem ser comprados. Os temas dos livros são variados, os quais podem abordar assuntos que vão desde a introdução a linguagem bem como assuntos mais avançados como <em>Machine Learning</em>, <em>Datascience</em>, etc. Para as pessoas que querem aprender Python do zero, uma busca como esta pode se tornar uma tarefa um pouco desafiadora, visto o pouco ou nenhum conhecimento para escolher um livro adequado ao nível atual. Desta forma, aqui indico algumas opções para quem assim como em quer sair do zero:\n",
    "\n",
    "<ol>\n",
    "    <li>Introdução à programação com python, Algoritmos e lógica de programação para iniciantes, 3ª Edição, Novatec, Nilo Ney Coutinho Menezes, <strong>ISBN 978-85-7522-718-3</strong>, 2019</li>\n",
    "    <li>Curso intensivo de python, Uma introdução prática e baseada em projetos à programação, 1ª Edição, Novatec, Eric Matheus, <strong>ISBN 978-1-59327-603-4</strong>, 2016</li>\n",
    "</ol>\n",
    "</div>"
   ]
  },
  {
   "cell_type": "markdown",
   "id": "58c377a9",
   "metadata": {},
   "source": [
    "### Outros canais de aprendizado"
   ]
  },
  {
   "cell_type": "markdown",
   "id": "29eaac86",
   "metadata": {},
   "source": [
    "1. Youtube  \n",
    "    * [Curso em vídeo: playlist Python mundo 1](https://www.youtube.com/watch?v=S9uPNppGsGo&list=PLHz_AreHm4dlKP6QQCekuIPky1CiwmdI6&ab_channel=CursoemV%C3%ADdeo)\n",
    "    * [Curso em vídeo: playlist Python mundo 2](https://www.youtube.com/watch?v=nJkVHusJp6E&list=PLHz_AreHm4dk_nZHmxxf_J0WRAqy5Czye&ab_channel=CursoemV%C3%ADdeo)\n",
    "    * [Curso em vídeo: playlist Python mundo 3](https://www.youtube.com/watch?v=0LB3FSfjvao&list=PLHz_AreHm4dksnH2jVTIVNviIMBVYyFnH&ab_channel=CursoemV%C3%ADdeo)\n",
    "    * [Curso em vídeo: playlist de exercícios dos mundos](https://www.youtube.com/watch?v=nIHq1MtJaKs&list=PLHz_AreHm4dm6wYOIW20Nyg12TAjmMGT-&ab_channel=CursoemV%C3%ADdeo)\n",
    "    * [Dunosauro: Live de python](https://www.youtube.com/user/mendesesduardo)\n",
    "    * [Filipe Deschamps](https://www.youtube.com/channel/UCU5JicSrEM5A63jkJ2QvGYw)\n",
    "\n",
    "2. Ebooks\n",
    "    * [Pense python](https://penseallen.github.io/PensePython2e/)\n",
    "    * [Python e outros](https://github.com/EbookFoundation/free-programming-books/blob/master/books/free-programming-books-pt_BR.md#python)"
   ]
  },
  {
   "cell_type": "markdown",
   "id": "9e665cf1",
   "metadata": {},
   "source": [
    "### Instalando Python"
   ]
  },
  {
   "cell_type": "markdown",
   "id": "d385a7ee",
   "metadata": {},
   "source": [
    "1. [Ubuntu](https://python.org.br/instalacao-linux/)\n",
    "2. [Windows](https://python.org.br/instalacao-windows/)\n",
    "3. [Mac](https://python.org.br/instalacao-mac/)"
   ]
  },
  {
   "cell_type": "markdown",
   "id": "49df87a1",
   "metadata": {},
   "source": [
    "### Aprenda mais sobre Jupyter Notebook"
   ]
  },
  {
   "cell_type": "markdown",
   "id": "27149e8f",
   "metadata": {},
   "source": [
    "<div style=\"text-align: justify\">\n",
    "Uma forma de aprender rapidamente Python é usar ferramentas como o Jupyter Notebook. Desta forma, fica evidente que um aprendizado do que é esta ferramenta e como melhor utilizar seus recursos se faz necessário. Indico o aprofundamento na <a href=\"https://jupyter.org/\">documentação</a> do mesmo, pois há algumas opções de usos. Uma forma rápida de usar Jupyter Notebook para resolver o que é abordado nestas aulas é executar o que está declarado no README deste projeto, podendo ter um melhor aprofundamento após aprender o básico de Python.\n",
    "</div>"
   ]
  },
  {
   "cell_type": "markdown",
   "id": "f810b1f3",
   "metadata": {},
   "source": [
    "# Primeiros passos com Python\n",
    "### Um pequeno código mas um grande passo ao aprendizado da programação"
   ]
  },
  {
   "cell_type": "markdown",
   "id": "e915f905",
   "metadata": {},
   "source": [
    "<div style=\"text-align: justify\">\n",
    "No mundo da programação, existe uma lenda que diz que no momento em que estamos aprendeo uma nova linguagem de programação, devemos construir um programa simples que imprima uma mensagem de texto com os dizeres: \"Olá Mundo!\". Ao fazer isto, nos livramos de uma maldição que nos impede de proceguir com nosso aprendizado. Em Python, esse desafio pode ser superado da seguinte forma:\n",
    "</div>"
   ]
  },
  {
   "cell_type": "code",
   "execution_count": 1,
   "id": "417e6655",
   "metadata": {},
   "outputs": [
    {
     "name": "stdout",
     "output_type": "stream",
     "text": [
      "Olá Mundo!\n"
     ]
    }
   ],
   "source": [
    "mensagem = 'Olá Mundo!'\n",
    "print(mensagem)"
   ]
  },
  {
   "cell_type": "markdown",
   "id": "8de2a4e1",
   "metadata": {},
   "source": [
    "Brincadeiras a parte, vejamos o que aconteceu no pequeno trecho de código acima:\n",
    "\n",
    "<ol>\n",
    "    <li>uma variável nomeada de <em>mensagem</em> recebeu um valor do tipo <em>string</em> que formava a frase <strong>Olá mundo!</strong>;</li>\n",
    "    <li>a seguir, foi chamada uma função com nome <em>print()</em>, a qual simplesmente imprime o valor da string contida em mensagem.</li>\n",
    "</ol>"
   ]
  },
  {
   "cell_type": "markdown",
   "id": "8c532377",
   "metadata": {},
   "source": [
    "<div style=\"text-align: justify\">\n",
    "Se você é iniciante, talvez alguns termos podem ter lhe parecido estranhos: variável, recebeu, string e função. <strong>Variável</strong> é um local da memória do computador que pode armazenar um valor. Este valor fica armazenado em um local da memória até que seja necessário o seu uso. <strong>Receber</strong>, no contexto do Python, significa que uma variável <em>x</em> (como <em>mensagem</em>) armazena um conteúdo conteúdo qualquer (como <em>Olá mundo</em>). <strong>String</strong> é um dos tipos contidos em Python, sendo talvez um dos mais comuns. Outros tipos, que serão abordados em momento oportuno, são <em>int</em>, <em>float</em>, <em>byte</em>, etc. <strong>Função</strong> é um trecho de código que recebe um argumento (como <em>mensagem</em>) e, após processamento do argumento, alguma ação é realizada. Por exemplo, a função <em>built-in (fica automaticamente disponível após instalação do Python) print</em> realizou a ação de imprimir o valor da variável mensagem ao recebê-la como argumento. No entanto, print não é a única função que existe em Python, sendo que existem outras funções que realizam ações mais complexas, como retornar um objeto diferente do que aquele passado como argumento, ou mesmo realizar cálculos complexos como aqueles utlizados em Aprendizagem de Máquina. Em momento oportuno, tal assunto será melhor exclarecido.\n",
    "</div>"
   ]
  },
  {
   "cell_type": "markdown",
   "id": "5ca19a35",
   "metadata": {},
   "source": [
    "### Formatação de strings com a função print"
   ]
  },
  {
   "cell_type": "markdown",
   "id": "bc37d9b0",
   "metadata": {},
   "source": [
    "<div style=\"text-align: justify\">\n",
    "A função print é bem útil para quem está iniciando o aprendizado com Python, pois com ela podemos obervar o comportamento de certos trechos de um código que é alvo do aprendizado. Por exemplo, vamos observar o código a seguir:\n",
    "</div>"
   ]
  },
  {
   "cell_type": "code",
   "execution_count": 2,
   "id": "6a7fc38f",
   "metadata": {},
   "outputs": [],
   "source": [
    "string_simples = \"Olá, eu sou uma string simples, não uso o 'f' string ou o 'format' para interpolar quaisquers valores de variáveis auxiliares!!!\""
   ]
  },
  {
   "cell_type": "code",
   "execution_count": 3,
   "id": "f31bf94f",
   "metadata": {},
   "outputs": [
    {
     "name": "stdout",
     "output_type": "stream",
     "text": [
      "Olá, eu sou uma string simples, não uso o 'f' string ou o 'format' para interpolar quaisquers valores de variáveis auxiliares!!!\n"
     ]
    }
   ],
   "source": [
    "print(string_simples)"
   ]
  },
  {
   "cell_type": "markdown",
   "id": "875b4e3a",
   "metadata": {},
   "source": [
    "<div style=\"text-align: justify\">\n",
    "Como vimos acima, a função print recebeu uma variável que continha atribuída uma string longa. No entanto, como a mensagem representada por esta variável, essa string contém um texto simples, fixo, que não varia o conteúdo conforme chamamos a função print.\n",
    "</div>"
   ]
  },
  {
   "cell_type": "markdown",
   "id": "1ab11a9f",
   "metadata": {},
   "source": [
    "<div style=\"text-align: justify\">\n",
    "Em situações onde temos a necessidade de ter um texto fixo e partes deste texto que podem variar conforme necessidade, podemos fazer uso de <strong>'f strings'</strong> ou da função <strong>'format'</strong>. Tais funcionalizadades formatam as variáveis do tipo string, auxiliando na estilização da mensagem durante a exibição da mesma no print. Por exemplo, imagine um programa onde devemos realizar o cálculo de correspondência entre a temperatura Fahrenheit (°F) e Celsius (°C). Neste caso, foi informado que devemos receber uma temperatura medida em °F e a saída deverá ser em °C. Desta forma, temos o programa na seguinte forma:\n",
    "</div>"
   ]
  },
  {
   "cell_type": "code",
   "execution_count": 4,
   "id": "0911419d",
   "metadata": {},
   "outputs": [],
   "source": [
    "# (32 °F − 32) × 5/9 = 0 °C\n",
    "fahrenheit = 255\n",
    "celsius = ( fahrenheit - 32 ) * 5/9"
   ]
  },
  {
   "cell_type": "markdown",
   "id": "ecdc4617",
   "metadata": {},
   "source": [
    "<div style=\"text-align: justify\">\n",
    "Note na fórmula acima, que o uso de parênteses dá procedência ao cálculo dos valores entre parênteses. A seguir, o cálculo a ser realizado será da divisão de 5/9, seguindo para a multiplicação dos valores calculados na etapas anteriores. Isso é exatamente o que aprendemos em matemática, logo, devemos usar parênteses quando queremos que determinados valores sejam calculados primeiro do que outros. O cálculo acima, sem formatação alguma, resulta no seguinte valor que está atribuído a variável Celsius:\n",
    "</div>"
   ]
  },
  {
   "cell_type": "code",
   "execution_count": 5,
   "id": "14848ed9",
   "metadata": {},
   "outputs": [
    {
     "data": {
      "text/plain": [
       "123.88888888888889"
      ]
     },
     "execution_count": 5,
     "metadata": {},
     "output_type": "execute_result"
    }
   ],
   "source": [
    "celsius"
   ]
  },
  {
   "cell_type": "markdown",
   "id": "851a8b96",
   "metadata": {},
   "source": [
    "Formatando uma mensagem personalisada, podemos obter o seguinte resultado:"
   ]
  },
  {
   "cell_type": "code",
   "execution_count": 6,
   "id": "324f6094",
   "metadata": {},
   "outputs": [
    {
     "name": "stdout",
     "output_type": "stream",
     "text": [
      "A conversão de 255 Fahrenheit (°F) para Celsius (°C) equivale a 123.88888888888889\n"
     ]
    }
   ],
   "source": [
    "mensagem_f_string = f'A conversão de {fahrenheit} Fahrenheit (°F) para Celsius (°C) equivale a {celsius}'\n",
    "print(mensagem_f_string)"
   ]
  },
  {
   "cell_type": "markdown",
   "id": "2c6b1ec2",
   "metadata": {},
   "source": [
    "<div style=\"text-align: justify\">\n",
    "Note que não há diferença no uso de ' ou de \", pois tudo que está entre esses dois símbolos é considerado uma string pelo interpretador Python. Note que se abrir as ápas com ', a mesma deve ser fechada com ', e vice-e-versa. No exemplo anterior, ao colocarmos f na frente da áspas que abre a região da string, estamos informando ao Python que vamos adicionar variáveis no meio do texto, e que o mesmo deverá interpolar (trocar) os valores que informamos entre chaves (<em>{}</em>).\n",
    "</div>"
   ]
  },
  {
   "cell_type": "markdown",
   "id": "43d3ab47",
   "metadata": {},
   "source": [
    "<div style=\"text-align: justify\">\n",
    "Note que usamos a convenção quando fomos declarar as variáveis em Python, em caixa baixa, ou seja, em minúsculas. Quando houve a necessidade de usar espaços, adicionamos underlines (\"_\"). Outra forma de formatar strings pode ser como segue:\n",
    "</div>"
   ]
  },
  {
   "cell_type": "code",
   "execution_count": 7,
   "id": "d89fc1cf",
   "metadata": {},
   "outputs": [
    {
     "name": "stdout",
     "output_type": "stream",
     "text": [
      "A conversão de 255 Fahrenheit (°F) para Celsius (°C) equivale a 123.88888888888889\n"
     ]
    }
   ],
   "source": [
    "mensagem_f_string = 'A conversão de {0} Fahrenheit (°F) para Celsius (°C) equivale a {1}'.format(fahrenheit, celsius)\n",
    "print(mensagem_f_string)"
   ]
  },
  {
   "cell_type": "markdown",
   "id": "3713815b",
   "metadata": {},
   "source": [
    "<div style=\"text-align: justify\">\n",
    "Note que a saída é a mesma, desta forma, você é livre para decidir qual usar. A formatação com 'f string' surgiu com o python 3.6 e até o momento é uma das formas mais utilizadas para formação de strings.\n",
    "</div>"
   ]
  }
 ],
 "metadata": {
  "kernelspec": {
   "display_name": "Python 3 (ipykernel)",
   "language": "python",
   "name": "python3"
  },
  "language_info": {
   "codemirror_mode": {
    "name": "ipython",
    "version": 3
   },
   "file_extension": ".py",
   "mimetype": "text/x-python",
   "name": "python",
   "nbconvert_exporter": "python",
   "pygments_lexer": "ipython3",
   "version": "3.8.10"
  }
 },
 "nbformat": 4,
 "nbformat_minor": 5
}
