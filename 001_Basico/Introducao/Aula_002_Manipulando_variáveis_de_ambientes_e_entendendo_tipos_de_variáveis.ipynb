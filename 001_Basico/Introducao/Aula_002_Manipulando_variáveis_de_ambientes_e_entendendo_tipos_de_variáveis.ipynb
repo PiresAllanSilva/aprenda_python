{
 "cells": [
  {
   "cell_type": "markdown",
   "id": "f09239de",
   "metadata": {},
   "source": [
    "# Primeiros passos com Python"
   ]
  },
  {
   "cell_type": "markdown",
   "id": "b6dd5c69",
   "metadata": {},
   "source": [
    "### Uso de variáveis"
   ]
  },
  {
   "cell_type": "markdown",
   "id": "6c3e0433",
   "metadata": {},
   "source": [
    "Os nomes da variáveis deve respeitar um certos padrões, como por exemplo iniciar obrigatóriamente com letra, e, se precisar conter números, os mesmos devem se localizar em qualquer posição menos no início do nome da variável."
   ]
  },
  {
   "cell_type": "code",
   "execution_count": 36,
   "id": "eed69fcd",
   "metadata": {},
   "outputs": [],
   "source": [
    "# Exemplo de variáveis válidas em Python\n",
    "var_1 = 12\n",
    "soma = 45 + 78\n",
    "path_2_file = \"/home/ubuntu/log.txt\"\n",
    "full_path = \"/opt/meu_programa/err.txt\"\n",
    "filename = \"teste.txt\""
   ]
  },
  {
   "cell_type": "markdown",
   "id": "e9b4498a",
   "metadata": {},
   "source": [
    "Por padrão, devemos evitar alguns nomes de variáveis, pois além de serem inesperadas (iniciar com números e conter espaços), palavras reservadas à linguagem (True, False, print, etc) devem ser evitadas, podem conflitam com o próprio funcionamento do Python."
   ]
  },
  {
   "cell_type": "code",
   "execution_count": 35,
   "id": "84822d5c",
   "metadata": {},
   "outputs": [],
   "source": [
    "# Exemplo de variáveis inválidas em Python\n",
    "2_check_if_exists\n",
    "full path\n",
    "True\n",
    "not\n",
    "class\n",
    "def\n",
    "print\n",
    "sum"
   ]
  },
  {
   "cell_type": "markdown",
   "id": "54e51b45",
   "metadata": {},
   "source": [
    "### Um pouco mais sobre formas de se usar o print"
   ]
  },
  {
   "cell_type": "markdown",
   "id": "e3fc2fd0",
   "metadata": {},
   "source": [
    "<div style=\"text-align: justify\">\n",
    "    Conforme vimos anteriormente, a função <em>print</em> recebe um argumento e imprime o valor que este argumento (uma variável) contém. Por exemplo:\n",
    "</div>"
   ]
  },
  {
   "cell_type": "code",
   "execution_count": 39,
   "id": "8640b882",
   "metadata": {},
   "outputs": [
    {
     "name": "stdout",
     "output_type": "stream",
     "text": [
      "O valor da soma de 43 + 1 é igual a 44\n"
     ]
    }
   ],
   "source": [
    "valor_1 = 43\n",
    "valor_2 = 1\n",
    "soma = valor_1 + valor_2\n",
    "print(f\"O valor da soma de {valor_1} + {valor_2} é igual a {soma}\")"
   ]
  },
  {
   "cell_type": "markdown",
   "id": "97e68b18",
   "metadata": {},
   "source": [
    "Conforme podemos ver, <em>valor_1</em>, <em>valor_2</em> e <em>soma</em> são variáveis que armazenam valores do tipo inteiro. A variável soma, armazena o valor da operação de adição entre os números <em>43</em> e <em>1</em>. Dentro da função print, podemos fornecer múltiplos tipos, como cadeias de caractéres (strings), inteiros (int ou integers), números flutuantes (float), etc. Além disso, podemos utilizar formatadores de strings para perssonalizar o texto que é impresso. No exemplo acima, o formator utilizado é o f-string, o qual é representado pela letra <em>f</em>. Note que as variáveis são envolvidas por chaves (\"{}\"), sendo que a f-string reconhece as variávies nesta situação e, por isso, consegue exibir o resultado do print da forma esperada."
   ]
  },
  {
   "cell_type": "markdown",
   "id": "b0fbd8ae",
   "metadata": {},
   "source": [
    "### Operações matemáticas com inteiros e números flutuantes"
   ]
  },
  {
   "cell_type": "markdown",
   "id": "3a7992e6",
   "metadata": {},
   "source": [
    "<div style=\"text-align: justify\">\n",
    "Python é capaz de realizar operações de matemáticas de forma simples. A seguir, veremos algumas operações corriqueiras que são bem simples de serem feitas.\n",
    "</div>"
   ]
  },
  {
   "cell_type": "code",
   "execution_count": 14,
   "id": "0f9e886b",
   "metadata": {},
   "outputs": [
    {
     "data": {
      "text/plain": [
       "800"
      ]
     },
     "execution_count": 14,
     "metadata": {},
     "output_type": "execute_result"
    }
   ],
   "source": [
    "# Multiplicação\n",
    "20 * 40"
   ]
  },
  {
   "cell_type": "code",
   "execution_count": 15,
   "id": "62bb8221",
   "metadata": {},
   "outputs": [
    {
     "data": {
      "text/plain": [
       "50.0"
      ]
     },
     "execution_count": 15,
     "metadata": {},
     "output_type": "execute_result"
    }
   ],
   "source": [
    "# Divisão\n",
    "100 / 2"
   ]
  },
  {
   "cell_type": "code",
   "execution_count": 16,
   "id": "494f0b6c",
   "metadata": {},
   "outputs": [
    {
     "data": {
      "text/plain": [
       "40"
      ]
     },
     "execution_count": 16,
     "metadata": {},
     "output_type": "execute_result"
    }
   ],
   "source": [
    "# Subtração\n",
    "80 - 40"
   ]
  },
  {
   "cell_type": "code",
   "execution_count": 17,
   "id": "7299f787",
   "metadata": {},
   "outputs": [
    {
     "data": {
      "text/plain": [
       "16"
      ]
     },
     "execution_count": 17,
     "metadata": {},
     "output_type": "execute_result"
    }
   ],
   "source": [
    "# Exponenciação\n",
    "2 ** 4"
   ]
  },
  {
   "cell_type": "code",
   "execution_count": 18,
   "id": "5b9c7600",
   "metadata": {},
   "outputs": [
    {
     "data": {
      "text/plain": [
       "4"
      ]
     },
     "execution_count": 18,
     "metadata": {},
     "output_type": "execute_result"
    }
   ],
   "source": [
    "# Divisão inteira\n",
    "20 // 5"
   ]
  },
  {
   "cell_type": "code",
   "execution_count": 19,
   "id": "f1072486",
   "metadata": {},
   "outputs": [
    {
     "data": {
      "text/plain": [
       "1"
      ]
     },
     "execution_count": 19,
     "metadata": {},
     "output_type": "execute_result"
    }
   ],
   "source": [
    "# Resto da divisão inteira -> Também conhecido como Módulo\n",
    "10 % 3"
   ]
  },
  {
   "cell_type": "code",
   "execution_count": 20,
   "id": "4adcfded",
   "metadata": {},
   "outputs": [
    {
     "data": {
      "text/plain": [
       "1598.0"
      ]
     },
     "execution_count": 20,
     "metadata": {},
     "output_type": "execute_result"
    }
   ],
   "source": [
    "# Ordem em que as operações devem ser realizadas -> uso de parênteses\n",
    "1500 + (1000*5 / 100) * (20 % 3) - 2"
   ]
  },
  {
   "cell_type": "code",
   "execution_count": 25,
   "id": "398da038",
   "metadata": {},
   "outputs": [
    {
     "data": {
      "text/plain": [
       "800.0300000000001"
      ]
     },
     "execution_count": 25,
     "metadata": {},
     "output_type": "execute_result"
    }
   ],
   "source": [
    "# 20% de R$ 4.000,15\n",
    "(20 / 100) * (4000.15)"
   ]
  },
  {
   "cell_type": "code",
   "execution_count": 29,
   "id": "c55ea448",
   "metadata": {},
   "outputs": [
    {
     "data": {
      "text/plain": [
       "456.85"
      ]
     },
     "execution_count": 29,
     "metadata": {},
     "output_type": "execute_result"
    }
   ],
   "source": [
    "# Operações com números flutuantes\n",
    "( 0.50 + 4568 ) / 10"
   ]
  },
  {
   "cell_type": "markdown",
   "id": "58c377a9",
   "metadata": {},
   "source": [
    "### Operações com string"
   ]
  },
  {
   "cell_type": "markdown",
   "id": "b40d25c0",
   "metadata": {},
   "source": [
    "Existem muitas operações que podem ser realizadas com strings, que envolde desde padrões de formatações textuais como extenção de caracteres a um texto existente."
   ]
  },
  {
   "cell_type": "code",
   "execution_count": 40,
   "id": "eaf5e399",
   "metadata": {},
   "outputs": [
    {
     "data": {
      "text/plain": [
       "'Este é um texto simples, o qual não é muito grandeEste é um texto simples, o qual não é muito grande'"
      ]
     },
     "execution_count": 40,
     "metadata": {},
     "output_type": "execute_result"
    }
   ],
   "source": [
    "# Operação que realiza a duplicação de um texto existente\n",
    "texto = \"Este é um texto simples, o qual não é muito grande\"\n",
    "\n",
    "texto * 2"
   ]
  },
  {
   "cell_type": "code",
   "execution_count": 41,
   "id": "60b63034",
   "metadata": {},
   "outputs": [
    {
     "data": {
      "text/plain": [
       "\"Algum texto que contém um caratere a ser----->removido o 'removido'\""
      ]
     },
     "execution_count": 41,
     "metadata": {},
     "output_type": "execute_result"
    }
   ],
   "source": [
    "# Operação de substituição de padrão textual por algo qualquer\n",
    "texto2 = \"Algum texto que contém um caratere a ser removido\"\n",
    "\n",
    "texto2.replace(\" removido\", \"----->removido o 'removido'\")"
   ]
  },
  {
   "cell_type": "code",
   "execution_count": 46,
   "id": "d2dcd7e8",
   "metadata": {},
   "outputs": [
    {
     "data": {
      "text/plain": [
       "'Um texto muito bagunçado, que deve ser arrumado'"
      ]
     },
     "execution_count": 46,
     "metadata": {},
     "output_type": "execute_result"
    }
   ],
   "source": [
    "texto3 = \"\\n\\n\\n\\nUm texto \\t\\t\\t\\t\\t\\tmuito bagunçado, que deve ser arrumado\\n\"\n",
    "\n",
    "texto3.strip(\"\\n\").replace(\"\\t\", \"\")"
   ]
  },
  {
   "cell_type": "code",
   "execution_count": 47,
   "id": "a5f09f9a",
   "metadata": {},
   "outputs": [
    {
     "data": {
      "text/plain": [
       "'Um texto 4 que deve ser o último exemplo até aqui!'"
      ]
     },
     "execution_count": 47,
     "metadata": {},
     "output_type": "execute_result"
    }
   ],
   "source": [
    "# Concatenação de strings\n",
    "texto4 = \"Um texto 4\"\n",
    "texto5 = \" que deve ser o último exemplo até aqui!\"\n",
    "\n",
    "texto4 + texto5"
   ]
  },
  {
   "cell_type": "markdown",
   "id": "9e665cf1",
   "metadata": {},
   "source": [
    "### Variáveis do tipo lógico"
   ]
  },
  {
   "cell_type": "markdown",
   "id": "d385a7ee",
   "metadata": {},
   "source": [
    "Em alguns momentos, é natural que algum trecho de código tenha que realizar algum tipo de comparação, onde o valor desta operação deverá ser verdadeiro ou falso. Em Python, estes resultados são representados pelos tipos booleanos True e False."
   ]
  },
  {
   "cell_type": "code",
   "execution_count": 48,
   "id": "79b49cff",
   "metadata": {},
   "outputs": [
    {
     "data": {
      "text/plain": [
       "True"
      ]
     },
     "execution_count": 48,
     "metadata": {},
     "output_type": "execute_result"
    }
   ],
   "source": [
    "5 > 2"
   ]
  },
  {
   "cell_type": "code",
   "execution_count": 49,
   "id": "d4422fa8",
   "metadata": {},
   "outputs": [
    {
     "data": {
      "text/plain": [
       "False"
      ]
     },
     "execution_count": 49,
     "metadata": {},
     "output_type": "execute_result"
    }
   ],
   "source": [
    "3 > 1000"
   ]
  },
  {
   "cell_type": "markdown",
   "id": "29f6dff4",
   "metadata": {},
   "source": [
    "Assim como visto para dados do tipo string e numéricos, variáveis do tipo lógico também pode ser atribuídos a variáveis."
   ]
  },
  {
   "cell_type": "code",
   "execution_count": 50,
   "id": "ae18ad9f",
   "metadata": {},
   "outputs": [],
   "source": [
    "verdadeiro = True\n",
    "falso = False"
   ]
  },
  {
   "cell_type": "code",
   "execution_count": 52,
   "id": "0dcd1088",
   "metadata": {},
   "outputs": [
    {
     "name": "stdout",
     "output_type": "stream",
     "text": [
      "True\n"
     ]
    }
   ],
   "source": [
    "print(verdadeiro)"
   ]
  },
  {
   "cell_type": "code",
   "execution_count": 53,
   "id": "74e69c9f",
   "metadata": {},
   "outputs": [
    {
     "name": "stdout",
     "output_type": "stream",
     "text": [
      "False\n"
     ]
    }
   ],
   "source": [
    "print(falso)"
   ]
  },
  {
   "cell_type": "markdown",
   "id": "49df87a1",
   "metadata": {},
   "source": [
    "### Operadores relacionais"
   ]
  }
 ],
 "metadata": {
  "kernelspec": {
   "display_name": "Python 3 (ipykernel)",
   "language": "python",
   "name": "python3"
  },
  "language_info": {
   "codemirror_mode": {
    "name": "ipython",
    "version": 3
   },
   "file_extension": ".py",
   "mimetype": "text/x-python",
   "name": "python",
   "nbconvert_exporter": "python",
   "pygments_lexer": "ipython3",
   "version": "3.8.10"
  }
 },
 "nbformat": 4,
 "nbformat_minor": 5
}
