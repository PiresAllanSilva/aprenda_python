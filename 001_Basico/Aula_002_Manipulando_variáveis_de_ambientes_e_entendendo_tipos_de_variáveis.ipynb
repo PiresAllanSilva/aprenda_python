{
 "cells": [
  {
   "cell_type": "markdown",
   "id": "f09239de",
   "metadata": {},
   "source": [
    "# Primeiros passos com Python"
   ]
  },
  {
   "cell_type": "markdown",
   "id": "b6dd5c69",
   "metadata": {},
   "source": [
    "### Uso de variáveis"
   ]
  },
  {
   "cell_type": "markdown",
   "id": "6c3e0433",
   "metadata": {},
   "source": [
    "<div style=\"text-align: justify\">\n",
    "Os nomes das variáveis devem respeitar certos padrões, como por exemplo iniciar obrigatóriamente com letra, e, se precisar conter números, os mesmos devem se localizar em qualquer posição menos no início do nome da variável.\n",
    "</div>"
   ]
  },
  {
   "cell_type": "code",
   "execution_count": 1,
   "id": "eed69fcd",
   "metadata": {},
   "outputs": [],
   "source": [
    "# Exemplo de variáveis válidas em Python\n",
    "var_1 = 12\n",
    "soma = 45 + 78\n",
    "path_2_file = \"/home/ubuntu/log.txt\"\n",
    "full_path = \"/opt/meu_programa/err.txt\"\n",
    "filename = \"teste.txt\""
   ]
  },
  {
   "cell_type": "markdown",
   "id": "e9b4498a",
   "metadata": {},
   "source": [
    "<div style=\"text-align: justify\">\n",
    "Por padrão, devemos evitar alguns nomes de variáveis, pois além de serem inesperadas (iniciar com números e conter espaços), palavras reservadas à linguagem (True, False, print, etc) devem ser evitadas, pois podem conflitar com o próprio funcionamento do Python.\n",
    "</div>"
   ]
  },
  {
   "cell_type": "code",
   "execution_count": 2,
   "id": "84822d5c",
   "metadata": {},
   "outputs": [
    {
     "ename": "SyntaxError",
     "evalue": "invalid decimal literal (656585519.py, line 2)",
     "output_type": "error",
     "traceback": [
      "\u001b[0;36m  File \u001b[0;32m\"/tmp/ipykernel_343509/656585519.py\"\u001b[0;36m, line \u001b[0;32m2\u001b[0m\n\u001b[0;31m    2_check_if_exists\u001b[0m\n\u001b[0m     ^\u001b[0m\n\u001b[0;31mSyntaxError\u001b[0m\u001b[0;31m:\u001b[0m invalid decimal literal\n"
     ]
    }
   ],
   "source": [
    "# Exemplo de variáveis inválidas em Python\n",
    "2_check_if_exists\n",
    "full path\n",
    "True\n",
    "not\n",
    "class\n",
    "def\n",
    "print\n",
    "sum"
   ]
  },
  {
   "cell_type": "markdown",
   "id": "2329a4b0",
   "metadata": {},
   "source": [
    "<div style=\"text-align: justify\">\n",
    "Desta forma, devemos compreender que certas palavras são reservadas ao interŕetador Python, e podem tanto ser associadas a funções (print, sum, etc) quanto valores que auxiliam na direção que um determinado pode tomar (booleanos). Sobreescrever tais palavras podem causar erros de funcionamento de um programa e, para programadores iniciantes, tais erros podem ser difíceis de identificar.\n",
    "</div>"
   ]
  },
  {
   "cell_type": "markdown",
   "id": "54e51b45",
   "metadata": {},
   "source": [
    "### Um pouco mais sobre formas de se usar o print"
   ]
  },
  {
   "cell_type": "markdown",
   "id": "e3fc2fd0",
   "metadata": {},
   "source": [
    "<div style=\"text-align: justify\">\n",
    "    Conforme vimos anteriormente, a função <em>print</em> recebe um argumento e imprime o valor que este argumento (uma variável) contém. Por exemplo:\n",
    "</div>"
   ]
  },
  {
   "cell_type": "code",
   "execution_count": 3,
   "id": "8640b882",
   "metadata": {
    "scrolled": true
   },
   "outputs": [
    {
     "name": "stdout",
     "output_type": "stream",
     "text": [
      "O valor da soma de 43 + 1 é igual a 44\n"
     ]
    }
   ],
   "source": [
    "valor_1 = 43\n",
    "valor_2 = 1\n",
    "soma = valor_1 + valor_2\n",
    "print(f\"O valor da soma de {valor_1} + {valor_2} é igual a {soma}\")"
   ]
  },
  {
   "cell_type": "markdown",
   "id": "97e68b18",
   "metadata": {},
   "source": [
    "<div style=\"text-align: justify\">\n",
    "Conforme podemos ver, <em>valor_1</em>, <em>valor_2</em> e <em>soma</em> são variáveis que armazenam valores do tipo inteiro. A variável soma, armazena o valor da operação de adição entre os números <em>43</em> e <em>1</em>. Dentro da função print, podemos fornecer múltiplos tipos, como cadeias de caractéres (strings), inteiros (int ou integers), números flutuantes (float), etc. Além disso, podemos utilizar formatadores de strings para perssonalizar o texto que é impresso. No exemplo acima, o formator utilizado é o f-string, o qual é representado pela letra <em>f</em>. Note que as variáveis são envolvidas por chaves (\"{}\"), sendo que a f-string reconhece as variávies nesta situação e, por isso, consegue exibir o resultado do print da forma esperada.\n",
    "<div>"
   ]
  },
  {
   "cell_type": "markdown",
   "id": "b0fbd8ae",
   "metadata": {},
   "source": [
    "### Operações matemáticas com inteiros e números flutuantes"
   ]
  },
  {
   "cell_type": "markdown",
   "id": "3a7992e6",
   "metadata": {},
   "source": [
    "<div style=\"text-align: justify\">\n",
    "Python é capaz de realizar operações de matemáticas de forma simples. A seguir, veremos algumas operações corriqueiras que são bem simples de serem feitas.\n",
    "</div>"
   ]
  },
  {
   "cell_type": "code",
   "execution_count": 4,
   "id": "0f9e886b",
   "metadata": {},
   "outputs": [
    {
     "data": {
      "text/plain": [
       "800"
      ]
     },
     "execution_count": 4,
     "metadata": {},
     "output_type": "execute_result"
    }
   ],
   "source": [
    "# Multiplicação\n",
    "20 * 40"
   ]
  },
  {
   "cell_type": "code",
   "execution_count": 5,
   "id": "62bb8221",
   "metadata": {},
   "outputs": [
    {
     "data": {
      "text/plain": [
       "50.0"
      ]
     },
     "execution_count": 5,
     "metadata": {},
     "output_type": "execute_result"
    }
   ],
   "source": [
    "# Divisão\n",
    "100 / 2"
   ]
  },
  {
   "cell_type": "code",
   "execution_count": 6,
   "id": "494f0b6c",
   "metadata": {},
   "outputs": [
    {
     "data": {
      "text/plain": [
       "40"
      ]
     },
     "execution_count": 6,
     "metadata": {},
     "output_type": "execute_result"
    }
   ],
   "source": [
    "# Subtração\n",
    "80 - 40"
   ]
  },
  {
   "cell_type": "code",
   "execution_count": 7,
   "id": "7299f787",
   "metadata": {},
   "outputs": [
    {
     "data": {
      "text/plain": [
       "16"
      ]
     },
     "execution_count": 7,
     "metadata": {},
     "output_type": "execute_result"
    }
   ],
   "source": [
    "# Exponenciação\n",
    "2 ** 4"
   ]
  },
  {
   "cell_type": "code",
   "execution_count": 8,
   "id": "5b9c7600",
   "metadata": {},
   "outputs": [
    {
     "data": {
      "text/plain": [
       "4"
      ]
     },
     "execution_count": 8,
     "metadata": {},
     "output_type": "execute_result"
    }
   ],
   "source": [
    "# Divisão inteira\n",
    "20 // 5"
   ]
  },
  {
   "cell_type": "code",
   "execution_count": 9,
   "id": "f1072486",
   "metadata": {},
   "outputs": [
    {
     "data": {
      "text/plain": [
       "1"
      ]
     },
     "execution_count": 9,
     "metadata": {},
     "output_type": "execute_result"
    }
   ],
   "source": [
    "# Resto da divisão inteira -> Também conhecido como Módulo\n",
    "10 % 3"
   ]
  },
  {
   "cell_type": "code",
   "execution_count": 10,
   "id": "4adcfded",
   "metadata": {},
   "outputs": [
    {
     "data": {
      "text/plain": [
       "1598.0"
      ]
     },
     "execution_count": 10,
     "metadata": {},
     "output_type": "execute_result"
    }
   ],
   "source": [
    "# Ordem em que as operações devem ser realizadas -> uso de parênteses\n",
    "1500 + (1000*5 / 100) * (20 % 3) - 2"
   ]
  },
  {
   "cell_type": "code",
   "execution_count": 11,
   "id": "398da038",
   "metadata": {},
   "outputs": [
    {
     "data": {
      "text/plain": [
       "800.0300000000001"
      ]
     },
     "execution_count": 11,
     "metadata": {},
     "output_type": "execute_result"
    }
   ],
   "source": [
    "# 20% de R$ 4.000,15\n",
    "(20 / 100) * (4000.15)"
   ]
  },
  {
   "cell_type": "code",
   "execution_count": 12,
   "id": "c55ea448",
   "metadata": {},
   "outputs": [
    {
     "data": {
      "text/plain": [
       "456.85"
      ]
     },
     "execution_count": 12,
     "metadata": {},
     "output_type": "execute_result"
    }
   ],
   "source": [
    "# Operações com números flutuantes\n",
    "( 0.50 + 4568 ) / 10"
   ]
  },
  {
   "cell_type": "code",
   "execution_count": 13,
   "id": "178ea430",
   "metadata": {},
   "outputs": [
    {
     "name": "stdout",
     "output_type": "stream",
     "text": [
      "200\n"
     ]
    }
   ],
   "source": [
    "# Operações matemáticas com uso de variáveis\n",
    "num1 = 2\n",
    "num2 = 100\n",
    "res_mult = num1 * num2\n",
    "print(res_mult)"
   ]
  },
  {
   "cell_type": "code",
   "execution_count": 14,
   "id": "8af73ad9",
   "metadata": {},
   "outputs": [
    {
     "name": "stdout",
     "output_type": "stream",
     "text": [
      "50.0\n"
     ]
    }
   ],
   "source": [
    "# Operações matemáticas com uso de variáveis\n",
    "num1 = 500\n",
    "num2 = 10\n",
    "res_mult = num1 / num2\n",
    "print(res_mult)"
   ]
  },
  {
   "cell_type": "markdown",
   "id": "252a5177",
   "metadata": {},
   "source": [
    "<div style=\"text-align: justify\">\n",
    "Desta forma, quando trabalhamos com valores numéricos, podemos formatar as saídas das avaliações de forma apropriada utilizando 'f string' ou o 'format'. Isso nos lembra do nosso exemplo na Aula 001, onde tínhamos o requisito de calcular a equivalência em Celsius a partir de uma temperatura em Fahrenheit. Naquele exemplo, o resultado tinha ficado estranho, com um valor muito extenso: 123.88888888888889. Desta forma, podemos formatar a saída para 2 casas decimais após a vírgula, da segunte forma:\n",
    "</div>"
   ]
  },
  {
   "cell_type": "code",
   "execution_count": 15,
   "id": "8e20492f",
   "metadata": {},
   "outputs": [
    {
     "name": "stdout",
     "output_type": "stream",
     "text": [
      "O valor de °F convertido em °C é: 123.89\n"
     ]
    }
   ],
   "source": [
    "# Usando f string\n",
    "fahrenheit = 255\n",
    "celsius = ( fahrenheit - 32 ) * 5/9\n",
    "\n",
    "print(f\"O valor de °F convertido em °C é: {celsius:.2f}\")"
   ]
  },
  {
   "cell_type": "code",
   "execution_count": 16,
   "id": "d45f2768",
   "metadata": {},
   "outputs": [
    {
     "name": "stdout",
     "output_type": "stream",
     "text": [
      "O valor de °F convertido em °C é: 123.8889\n"
     ]
    }
   ],
   "source": [
    "# Usando format, para precisão com 4 casas decimais após a vírgula\n",
    "# (32 °F − 32) × 5/9 = 0 °C\n",
    "fahrenheit = 255\n",
    "celsius = ( fahrenheit - 32 ) * 5/9\n",
    "\n",
    "print(\"O valor de °F convertido em °C é: {0:.4f}\".format(celsius))"
   ]
  },
  {
   "cell_type": "markdown",
   "id": "58c377a9",
   "metadata": {},
   "source": [
    "### Operações com string"
   ]
  },
  {
   "cell_type": "markdown",
   "id": "b40d25c0",
   "metadata": {},
   "source": [
    "<div style=\"text-align: justify\">\n",
    "Variáveis do tipo string armazenam cadeias de caracteres que representam nomes ou textos longos. Cadeias de caracteres é uma sequência de símbolos como letras, números, sinais de pontuação, etc. Podemos fazer inúmeras operações com strings, como duplicar um texto, trocar um segmento de etxto por outro e remover determinados símbolos (\"\\n\", \"\\t\", etc). Vejamos alguns exemplos:\n",
    "</div>"
   ]
  },
  {
   "cell_type": "code",
   "execution_count": 17,
   "id": "eaf5e399",
   "metadata": {},
   "outputs": [
    {
     "data": {
      "text/plain": [
       "'Este é um texto simples, o qual não é muito grandeEste é um texto simples, o qual não é muito grande'"
      ]
     },
     "execution_count": 17,
     "metadata": {},
     "output_type": "execute_result"
    }
   ],
   "source": [
    "# Operação que realiza a duplicação de um texto existente\n",
    "texto = \"Este é um texto simples, o qual não é muito grande\"\n",
    "\n",
    "texto * 2"
   ]
  },
  {
   "cell_type": "code",
   "execution_count": 18,
   "id": "60b63034",
   "metadata": {},
   "outputs": [
    {
     "data": {
      "text/plain": [
       "\"Algum texto que contém um caratere a ser----->removido o 'removido'\""
      ]
     },
     "execution_count": 18,
     "metadata": {},
     "output_type": "execute_result"
    }
   ],
   "source": [
    "# Operação de substituição de padrão textual por algo qualquer\n",
    "texto2 = \"Algum texto que contém um caratere a ser removido\"\n",
    "\n",
    "texto2.replace(\" removido\", \"----->removido o 'removido'\")"
   ]
  },
  {
   "cell_type": "code",
   "execution_count": 19,
   "id": "d2dcd7e8",
   "metadata": {},
   "outputs": [
    {
     "data": {
      "text/plain": [
       "'Um texto muito bagunçado, que deve ser arrumado'"
      ]
     },
     "execution_count": 19,
     "metadata": {},
     "output_type": "execute_result"
    }
   ],
   "source": [
    "texto3 = \"\\n\\n\\n\\nUm texto \\t\\t\\t\\t\\t\\tmuito bagunçado, que deve ser arrumado\\n\"\n",
    "\n",
    "texto3.strip(\"\\n\").replace(\"\\t\", \"\")"
   ]
  },
  {
   "cell_type": "code",
   "execution_count": 20,
   "id": "a5f09f9a",
   "metadata": {},
   "outputs": [
    {
     "data": {
      "text/plain": [
       "'Um texto 4 que deve ser o último exemplo até aqui!'"
      ]
     },
     "execution_count": 20,
     "metadata": {},
     "output_type": "execute_result"
    }
   ],
   "source": [
    "# Concatenação de strings\n",
    "texto4 = \"Um texto 4\"\n",
    "texto5 = \" que deve ser o último exemplo até aqui!\"\n",
    "\n",
    "texto4 + texto5"
   ]
  },
  {
   "cell_type": "markdown",
   "id": "2b0329a9",
   "metadata": {},
   "source": [
    "<div style=\"text-align: justify\">\n",
    "Uma string pode ser avaliada sobre outro ponto de vista. Por exemplo, a string <strong>João e Maria comem pão</strong> é uma sequência de caracteres que pode ser ilustrada da sequinte forma:\n",
    "</div>"
   ]
  },
  {
   "cell_type": "markdown",
   "id": "6483027f",
   "metadata": {},
   "source": [
    " --- --- --- - --- - --- --- --- --- --- - --- --- --- --- --- - --- --- ---\n",
    "* 00: J\n",
    "* 01: o\n",
    "* 02: ã\n",
    "* 03: o\n",
    "* 04: espaço\n",
    "* 05: e\n",
    "* 06: espaço\n",
    "* 07: M\n",
    "* 08: a\n",
    "* 09: r\n",
    "* 10: i\n",
    "* 11: a\n",
    "* 12: espaço\n",
    "* 13: c\n",
    "* 14: o\n",
    "* 15: m\n",
    "* 16: e\n",
    "* 17: m\n",
    "* 18: espaço\n",
    "* 19: p\n",
    "* 20: ã\n",
    "* 21: o\n",
    " --- --- --- - --- - --- --- --- --- --- - --- --- --- --- --- - --- --- ---"
   ]
  },
  {
   "cell_type": "markdown",
   "id": "9b0dc024",
   "metadata": {},
   "source": [
    "<div style=\"text-align: justify\">\n",
    "Na representação da frase \"João e Maria comem pão\" acima, cada posição, iniciando de zero, representa um espaço na memória do computador (mesmo os espaços). Assim, podemos recuperar cada letra da frase usando essas posições como index, como no exemplo que se segue:\n",
    "</div>"
   ]
  },
  {
   "cell_type": "code",
   "execution_count": 21,
   "id": "e9ff2a2a",
   "metadata": {},
   "outputs": [
    {
     "data": {
      "text/plain": [
       "'J'"
      ]
     },
     "execution_count": 21,
     "metadata": {},
     "output_type": "execute_result"
    }
   ],
   "source": [
    "frase = 'João e Maria comem pão'\n",
    "\n",
    "# Essa representação, recupera a letra na posição 0, que é J\n",
    "frase[0]"
   ]
  },
  {
   "cell_type": "code",
   "execution_count": 22,
   "id": "5cc1a42b",
   "metadata": {},
   "outputs": [
    {
     "data": {
      "text/plain": [
       "'i'"
      ]
     },
     "execution_count": 22,
     "metadata": {},
     "output_type": "execute_result"
    }
   ],
   "source": [
    "# Essa representação, recupera a letra na posição 10, que é i\n",
    "frase[10]"
   ]
  },
  {
   "cell_type": "code",
   "execution_count": 23,
   "id": "b854c35c",
   "metadata": {},
   "outputs": [
    {
     "data": {
      "text/plain": [
       "'o'"
      ]
     },
     "execution_count": 23,
     "metadata": {},
     "output_type": "execute_result"
    }
   ],
   "source": [
    "# Essa representação, recupera a letra na posição -1, que é o\n",
    "frase[-1]"
   ]
  },
  {
   "cell_type": "code",
   "execution_count": 24,
   "id": "8644a3ca",
   "metadata": {},
   "outputs": [
    {
     "data": {
      "text/plain": [
       "'p'"
      ]
     },
     "execution_count": 24,
     "metadata": {},
     "output_type": "execute_result"
    }
   ],
   "source": [
    "# Essa representação, recupera a letra na posição -3, que é p\n",
    "frase[-3]"
   ]
  },
  {
   "cell_type": "markdown",
   "id": "fb14abaa",
   "metadata": {},
   "source": [
    "<div style=\"text-align: justify\">\n",
    "Assim como podemos recuperar letras que estão armazenadas em posições de uma variável, também podemos checar o comprimento de uma string:\n",
    "</div>"
   ]
  },
  {
   "cell_type": "code",
   "execution_count": 25,
   "id": "0e7e4b5c",
   "metadata": {},
   "outputs": [
    {
     "name": "stdout",
     "output_type": "stream",
     "text": [
      "A string analisada é: João e Maria comem pão\n",
      "O comprimento da string é: 22 posições\n"
     ]
    }
   ],
   "source": [
    "print(f'A string analisada é: {frase}')\n",
    "print(\"O comprimento da string é: {0} posições\".format(len(frase)))"
   ]
  },
  {
   "cell_type": "markdown",
   "id": "b3b9df26",
   "metadata": {},
   "source": [
    "<div style=\"text-align: justify\">\n",
    "Outros métodos de string que pode ser usados são os seguintes:\n",
    "</div>"
   ]
  },
  {
   "cell_type": "code",
   "execution_count": 26,
   "id": "9aac6e97",
   "metadata": {},
   "outputs": [
    {
     "name": "stdout",
     "output_type": "stream",
     "text": [
      "Split: ['João', 'e', 'Maria', 'comem', 'pão']\n",
      "Medindo o comprimento do objeto após aplicar o método split: 5\n"
     ]
    }
   ],
   "source": [
    "# Este método separa uma string em partes, onde o default é por espaço\n",
    "print(f\"Split: {frase.split()}\")\n",
    "print(f\"Medindo o comprimento do objeto após aplicar o método split: {len(frase.split())}\")"
   ]
  },
  {
   "cell_type": "code",
   "execution_count": 27,
   "id": "68d2dfde",
   "metadata": {},
   "outputs": [
    {
     "name": "stdout",
     "output_type": "stream",
     "text": [
      "Split: ['João e ', ' comem pão']\n",
      "Medindo o comprimento do objeto após aplicar o método split: 2\n"
     ]
    }
   ],
   "source": [
    "# Se trocarmos o valor default do método split, ele separa uma string com base nesse padrão\n",
    "print(f\"Split: {frase.split('Maria')}\")\n",
    "print(f'Medindo o comprimento do objeto após aplicar o método split: {len(frase.split(\"Maria\"))}')"
   ]
  },
  {
   "cell_type": "markdown",
   "id": "f37d166c",
   "metadata": {},
   "source": [
    "<div style=\"text-align: justify\">\n",
    "Mas podemos, de forma intensional, tentar recuperar alguma posição que não existe no objeto frase. Se isso acontecer, Python irá exibir um erro apropriado (<strong>IndexError</strong>), que indica erro de índice (posição) inexistente:\n",
    "</div>"
   ]
  },
  {
   "cell_type": "code",
   "execution_count": 28,
   "id": "227e7dad",
   "metadata": {},
   "outputs": [
    {
     "ename": "IndexError",
     "evalue": "string index out of range",
     "output_type": "error",
     "traceback": [
      "\u001b[0;31m---------------------------------------------------------------------------\u001b[0m",
      "\u001b[0;31mIndexError\u001b[0m                                Traceback (most recent call last)",
      "\u001b[0;32m/tmp/ipykernel_343509/1509593425.py\u001b[0m in \u001b[0;36m<module>\u001b[0;34m\u001b[0m\n\u001b[0;32m----> 1\u001b[0;31m \u001b[0mfrase\u001b[0m\u001b[0;34m[\u001b[0m\u001b[0;36m25\u001b[0m\u001b[0;34m]\u001b[0m\u001b[0;34m\u001b[0m\u001b[0;34m\u001b[0m\u001b[0m\n\u001b[0m",
      "\u001b[0;31mIndexError\u001b[0m: string index out of range"
     ]
    }
   ],
   "source": [
    "frase[25]"
   ]
  },
  {
   "cell_type": "markdown",
   "id": "56aef1b6",
   "metadata": {},
   "source": [
    "<div style=\"text-align: justify\">\n",
    "Outro erro comum quando começamos a trabalhar com operações de objetos em Python, é cometer o erro de tentar fazer operações com objetos do tipo string e numérico ao mesmo tempo. Caso isso ocorra, um erro apropriado será levantado (<strong>TypeError</strong>):\n",
    "</div>"
   ]
  },
  {
   "cell_type": "code",
   "execution_count": 29,
   "id": "33c96397",
   "metadata": {},
   "outputs": [
    {
     "ename": "TypeError",
     "evalue": "can only concatenate str (not \"int\") to str",
     "output_type": "error",
     "traceback": [
      "\u001b[0;31m---------------------------------------------------------------------------\u001b[0m",
      "\u001b[0;31mTypeError\u001b[0m                                 Traceback (most recent call last)",
      "\u001b[0;32m/tmp/ipykernel_343509/3641685715.py\u001b[0m in \u001b[0;36m<module>\u001b[0;34m\u001b[0m\n\u001b[1;32m      1\u001b[0m \u001b[0mvalor_string\u001b[0m \u001b[0;34m=\u001b[0m \u001b[0;34m\"Olá mundo\"\u001b[0m\u001b[0;34m\u001b[0m\u001b[0;34m\u001b[0m\u001b[0m\n\u001b[1;32m      2\u001b[0m \u001b[0mvalor_numerico\u001b[0m \u001b[0;34m=\u001b[0m \u001b[0;36m100000\u001b[0m\u001b[0;34m\u001b[0m\u001b[0;34m\u001b[0m\u001b[0m\n\u001b[0;32m----> 3\u001b[0;31m \u001b[0mresultado_operacao\u001b[0m \u001b[0;34m=\u001b[0m \u001b[0mvalor_string\u001b[0m \u001b[0;34m+\u001b[0m \u001b[0mvalor_numerico\u001b[0m\u001b[0;34m\u001b[0m\u001b[0;34m\u001b[0m\u001b[0m\n\u001b[0m",
      "\u001b[0;31mTypeError\u001b[0m: can only concatenate str (not \"int\") to str"
     ]
    }
   ],
   "source": [
    "valor_string = \"Olá mundo\"\n",
    "valor_numerico = 100000\n",
    "resultado_operacao = valor_string + valor_numerico"
   ]
  },
  {
   "cell_type": "markdown",
   "id": "cafc59d5",
   "metadata": {},
   "source": [
    "<div style=\"text-align: justify\">\n",
    "Assim, com o que apredemos até aqui, podemos misturar variáveis de tipos string com numéricas e formatar a saída de uma mensagem da forma que quisermos:\n",
    "</div>"
   ]
  },
  {
   "cell_type": "code",
   "execution_count": 30,
   "id": "aac70578",
   "metadata": {},
   "outputs": [
    {
     "name": "stdout",
     "output_type": "stream",
     "text": [
      "O cliente João possuí 22 anos.\n",
      "  ->Seu saldo é de US$ 145,222.5859 em 30/11/2022\n"
     ]
    }
   ],
   "source": [
    "nome = \"João\"\n",
    "idade = 22\n",
    "dinheiro = 145222.5858785555455\n",
    "data = \"30/11/2022\"\n",
    "\n",
    "msg1 = f\"O cliente {nome} possuí {idade} anos.\"\n",
    "msg2 = \"  ->Seu saldo é de US$ {0:,.4f} em {1}\".format(dinheiro, data)\n",
    "\n",
    "print(msg1)\n",
    "print(msg2)"
   ]
  },
  {
   "cell_type": "markdown",
   "id": "9e665cf1",
   "metadata": {},
   "source": [
    "### Variáveis do tipo lógico"
   ]
  },
  {
   "cell_type": "markdown",
   "id": "d385a7ee",
   "metadata": {},
   "source": [
    "<div style=\"text-align: justify\">\n",
    "Em alguns momentos, é natural que algum trecho de código tenha que realizar algum tipo de comparação, onde o valor desta operação deverá ser verdadeiro ou falso. Em Python, estes resultados são representados pelos tipos booleanos True e False.\n",
    "</div>"
   ]
  },
  {
   "cell_type": "code",
   "execution_count": 31,
   "id": "79b49cff",
   "metadata": {},
   "outputs": [
    {
     "data": {
      "text/plain": [
       "True"
      ]
     },
     "execution_count": 31,
     "metadata": {},
     "output_type": "execute_result"
    }
   ],
   "source": [
    "5 > 2"
   ]
  },
  {
   "cell_type": "code",
   "execution_count": 32,
   "id": "d4422fa8",
   "metadata": {},
   "outputs": [
    {
     "data": {
      "text/plain": [
       "False"
      ]
     },
     "execution_count": 32,
     "metadata": {},
     "output_type": "execute_result"
    }
   ],
   "source": [
    "3 > 1000"
   ]
  },
  {
   "cell_type": "markdown",
   "id": "29f6dff4",
   "metadata": {},
   "source": [
    "<div style=\"text-align: justify\">\n",
    "Assim como visto para dados do tipo string e numéricos, variáveis do tipo lógico também pode ser atribuídos a variáveis.\n",
    "</div>"
   ]
  },
  {
   "cell_type": "code",
   "execution_count": 33,
   "id": "ae18ad9f",
   "metadata": {},
   "outputs": [],
   "source": [
    "verdadeiro = True\n",
    "falso = False"
   ]
  },
  {
   "cell_type": "code",
   "execution_count": 34,
   "id": "0dcd1088",
   "metadata": {},
   "outputs": [
    {
     "name": "stdout",
     "output_type": "stream",
     "text": [
      "True\n"
     ]
    }
   ],
   "source": [
    "print(verdadeiro)"
   ]
  },
  {
   "cell_type": "code",
   "execution_count": 35,
   "id": "74e69c9f",
   "metadata": {},
   "outputs": [
    {
     "name": "stdout",
     "output_type": "stream",
     "text": [
      "False\n"
     ]
    }
   ],
   "source": [
    "print(falso)"
   ]
  },
  {
   "cell_type": "markdown",
   "id": "49df87a1",
   "metadata": {},
   "source": [
    "### Operadores relacionais"
   ]
  },
  {
   "cell_type": "markdown",
   "id": "1aef4589",
   "metadata": {},
   "source": [
    "<div style=\"text-align: justify\">\n",
    "Operadores relacionais são utilizados quando queremos comparar conteúdos de dois objetos. Por exemplo:\n",
    "</div>"
   ]
  },
  {
   "cell_type": "code",
   "execution_count": 36,
   "id": "32ea40b6",
   "metadata": {},
   "outputs": [
    {
     "name": "stdout",
     "output_type": "stream",
     "text": [
      "As duas variáveis contém o mesmo valor: var1 (True) = var2 (True).\n"
     ]
    }
   ],
   "source": [
    "var1 = True\n",
    "var2 = True\n",
    "\n",
    "if var1 == var2:\n",
    "    print(\"As duas variáveis contém o mesmo valor: var1 ({0}) = var2 ({1}).\".format(var1, var2))\n",
    "else:\n",
    "    print(\"As duas variáveis contém valores distintos: var1 ({0}) != var2 ({1}).\".format(var1, var2))"
   ]
  },
  {
   "cell_type": "markdown",
   "id": "112a2864",
   "metadata": {},
   "source": [
    "<div style=\"text-align: justify\">\n",
    "Como podemos ver a seguir, as variáveis a serem comparadas podem conter qualquer valor, não necessiariamente booleanos.\n",
    "</div>"
   ]
  },
  {
   "cell_type": "code",
   "execution_count": 37,
   "id": "2315707a",
   "metadata": {},
   "outputs": [
    {
     "name": "stdout",
     "output_type": "stream",
     "text": [
      "As duas variáveis contém valores distintos: var1 (1) != var2 (10000).\n"
     ]
    }
   ],
   "source": [
    "var1 = 1\n",
    "var2 = 10000\n",
    "\n",
    "if var1 == var2:\n",
    "    print(f\"As duas variáveis contém o mesmo valor: var1 ({var1}) = var2 ({var2}).\")\n",
    "else:\n",
    "    print(f\"As duas variáveis contém valores distintos: var1 ({var1}) != var2 ({var2}).\")"
   ]
  },
  {
   "cell_type": "markdown",
   "id": "90385daf",
   "metadata": {},
   "source": [
    "<div style=\"text-align: justify\">\n",
    "Outros exemplos, mais simples, são estes:\n",
    "</div>"
   ]
  },
  {
   "cell_type": "code",
   "execution_count": 38,
   "id": "29b6d48c",
   "metadata": {},
   "outputs": [],
   "source": [
    "a = 1\n",
    "b = 5\n",
    "c = 2\n",
    "d = 1"
   ]
  },
  {
   "cell_type": "code",
   "execution_count": 39,
   "id": "0fefcc9b",
   "metadata": {},
   "outputs": [
    {
     "data": {
      "text/plain": [
       "False"
      ]
     },
     "execution_count": 39,
     "metadata": {},
     "output_type": "execute_result"
    }
   ],
   "source": [
    "# a igual a b\n",
    "a == b"
   ]
  },
  {
   "cell_type": "code",
   "execution_count": 40,
   "id": "566d2a78",
   "metadata": {},
   "outputs": [
    {
     "data": {
      "text/plain": [
       "False"
      ]
     },
     "execution_count": 40,
     "metadata": {},
     "output_type": "execute_result"
    }
   ],
   "source": [
    "# d menor do que a\n",
    "d < a"
   ]
  },
  {
   "cell_type": "code",
   "execution_count": 41,
   "id": "03c973fe",
   "metadata": {},
   "outputs": [
    {
     "data": {
      "text/plain": [
       "False"
      ]
     },
     "execution_count": 41,
     "metadata": {},
     "output_type": "execute_result"
    }
   ],
   "source": [
    "# c menor ou igual a d\n",
    "c <= d"
   ]
  },
  {
   "cell_type": "code",
   "execution_count": 42,
   "id": "8c5293b0",
   "metadata": {},
   "outputs": [
    {
     "data": {
      "text/plain": [
       "True"
      ]
     },
     "execution_count": 42,
     "metadata": {},
     "output_type": "execute_result"
    }
   ],
   "source": [
    "# b maior ou igual a c\n",
    "b >= c"
   ]
  },
  {
   "cell_type": "code",
   "execution_count": 43,
   "id": "044e86a4",
   "metadata": {},
   "outputs": [
    {
     "data": {
      "text/plain": [
       "False"
      ]
     },
     "execution_count": 43,
     "metadata": {},
     "output_type": "execute_result"
    }
   ],
   "source": [
    "# d diferente do que a\n",
    "d != a"
   ]
  },
  {
   "cell_type": "code",
   "execution_count": 44,
   "id": "6f9894f9",
   "metadata": {},
   "outputs": [
    {
     "data": {
      "text/plain": [
       "True"
      ]
     },
     "execution_count": 44,
     "metadata": {},
     "output_type": "execute_result"
    }
   ],
   "source": [
    "# d diferente de b\n",
    "d != b"
   ]
  },
  {
   "cell_type": "markdown",
   "id": "b89e2f98",
   "metadata": {},
   "source": [
    "<div style=\"text-align: justify\">\n",
    "Tabela contendo todos os símbolos dos operadores relacionais válidos (Para saber mais, clique <a href=\"http://arquivo.devmedia.com.br/artigos/devmedia/html-entities.html\">aqui</a>):\n",
    "</div>"
   ]
  },
  {
   "cell_type": "markdown",
   "id": "84d6f6ac",
   "metadata": {},
   "source": [
    "<table style=\"width:60%\">\n",
    "    <tr>\n",
    "        <th style=\"text-align: center; vertical-align: middle;\">Operador</th>\n",
    "        <th style=\"text-align: center; vertical-align: middle;\">Operação</th>\n",
    "        <th style=\"text-align: center; vertical-align: middle;\">Símbolo matemático</th>\n",
    "    </tr>\n",
    "    <tr>\n",
    "        <td style=\"text-align: center; vertical-align: middle;\">==</td>\n",
    "        <td style=\"text-align: center; vertical-align: middle;\">igualdade</td>\n",
    "        <td style=\"text-align: center; vertical-align: middle;\">=</td>\n",
    "    </tr>\n",
    "    <tr>\n",
    "        <td style=\"text-align: center; vertical-align: middle;\">></td>\n",
    "        <td style=\"text-align: center; vertical-align: middle;\">maior que</td>\n",
    "        <td style=\"text-align: center; vertical-align: middle;\">></td>\n",
    "    </tr>\n",
    "    <tr>\n",
    "        <td style=\"text-align: center; vertical-align: middle;\"><</td>\n",
    "        <td style=\"text-align: center; vertical-align: middle;\">menor que</td>\n",
    "        <td style=\"text-align: center; vertical-align: middle;\"><</td>\n",
    "    </tr>\n",
    "    <tr>\n",
    "        <td style=\"text-align: center; vertical-align: middle;\">!=</td>\n",
    "        <td style=\"text-align: center; vertical-align: middle;\">diferente</td>\n",
    "        <td style=\"text-align: center; vertical-align: middle;\">&ne;</td>\n",
    "    </tr>\n",
    "    <tr>\n",
    "        <td style=\"text-align: center; vertical-align: middle;\">>=</td>\n",
    "        <td style=\"text-align: center; vertical-align: middle;\">maior ou igual</td>\n",
    "        <td style=\"text-align: center; vertical-align: middle;\">&ge;</td>\n",
    "    </tr>\n",
    "    <tr>\n",
    "        <td style=\"text-align: center; vertical-align: middle;\"><=</td>\n",
    "        <td style=\"text-align: center; vertical-align: middle;\">menor ou igual</td>\n",
    "        <td style=\"text-align: center; vertical-align: middle;\">&le;</td>\n",
    "    </tr>\n",
    "</table>"
   ]
  },
  {
   "cell_type": "markdown",
   "id": "5ae5cf59",
   "metadata": {},
   "source": [
    "### Operador and"
   ]
  },
  {
   "cell_type": "markdown",
   "id": "9d699ce1",
   "metadata": {},
   "source": [
    "<div style=\"text-align: justify\">\n",
    "O operador <strong>and</strong> pode ser representado em forma de tabela, conhecida como <strong>tabela verdade</strong>.\n",
    "</div>"
   ]
  },
  {
   "cell_type": "markdown",
   "id": "85b35d15",
   "metadata": {},
   "source": [
    "<table style=\"width:60%\">\n",
    "    <tr>\n",
    "        <th style=\"text-align: center; vertical-align: middle;\">V<sub>1</sub></th>\n",
    "        <th style=\"text-align: center; vertical-align: middle;\">V<sub>2</sub></th>\n",
    "        <th style=\"text-align: center; vertical-align: middle;\">V<sub>1</sub> e V<sub>2</sub></th>\n",
    "    </tr>\n",
    "    <tr>\n",
    "        <td style=\"text-align: center; vertical-align: middle;\">True</td>\n",
    "        <td style=\"text-align: center; vertical-align: middle;\">True</td>\n",
    "        <td style=\"text-align: center; vertical-align: middle;\">True</td>\n",
    "    </tr>\n",
    "    <tr>\n",
    "        <td style=\"text-align: center; vertical-align: middle;\">True</td>\n",
    "        <td style=\"text-align: center; vertical-align: middle;\">False</td>\n",
    "        <td style=\"text-align: center; vertical-align: middle;\">False</td>\n",
    "    </tr>\n",
    "    <tr>\n",
    "        <td style=\"text-align: center; vertical-align: middle;\">False</td>\n",
    "        <td style=\"text-align: center; vertical-align: middle;\">True</td>\n",
    "        <td style=\"text-align: center; vertical-align: middle;\">False</td>\n",
    "    </tr>\n",
    "    <tr>\n",
    "        <td style=\"text-align: center; vertical-align: middle;\">False</td>\n",
    "        <td style=\"text-align: center; vertical-align: middle;\">False</td>\n",
    "        <td style=\"text-align: center; vertical-align: middle;\">False</td>\n",
    "    </tr>\n",
    "</table>"
   ]
  },
  {
   "cell_type": "markdown",
   "id": "a2a2aeac",
   "metadata": {},
   "source": [
    "<div style=\"text-align: justify\">\n",
    "Desta forma, em Python, podemos fazer essas combinações conforme especificado na tabela verdade para verificarmos algumas condições lógicas entre os booleanos:\n",
    "<div>"
   ]
  },
  {
   "cell_type": "code",
   "execution_count": 45,
   "id": "63d78b06",
   "metadata": {},
   "outputs": [
    {
     "data": {
      "text/plain": [
       "True"
      ]
     },
     "execution_count": 45,
     "metadata": {},
     "output_type": "execute_result"
    }
   ],
   "source": [
    "True and True"
   ]
  },
  {
   "cell_type": "code",
   "execution_count": 46,
   "id": "d16ace7d",
   "metadata": {},
   "outputs": [
    {
     "data": {
      "text/plain": [
       "False"
      ]
     },
     "execution_count": 46,
     "metadata": {},
     "output_type": "execute_result"
    }
   ],
   "source": [
    "True and False"
   ]
  },
  {
   "cell_type": "code",
   "execution_count": 47,
   "id": "8e6f3313",
   "metadata": {},
   "outputs": [
    {
     "data": {
      "text/plain": [
       "False"
      ]
     },
     "execution_count": 47,
     "metadata": {},
     "output_type": "execute_result"
    }
   ],
   "source": [
    "False and True"
   ]
  },
  {
   "cell_type": "code",
   "execution_count": 48,
   "id": "1a33cf42",
   "metadata": {},
   "outputs": [
    {
     "data": {
      "text/plain": [
       "False"
      ]
     },
     "execution_count": 48,
     "metadata": {},
     "output_type": "execute_result"
    }
   ],
   "source": [
    "False and False"
   ]
  },
  {
   "cell_type": "markdown",
   "id": "eb7aa659",
   "metadata": {},
   "source": [
    "### Operador or"
   ]
  },
  {
   "cell_type": "markdown",
   "id": "f46abf89",
   "metadata": {},
   "source": [
    "<div style=\"text-align: justify\">\n",
    "Assim como a tabela do and, a tabela verdade do or tambpem pode ser representada da seguinte forma:\n",
    "</div>"
   ]
  },
  {
   "cell_type": "markdown",
   "id": "eb920db0",
   "metadata": {},
   "source": [
    "<table style=\"width:60%\">\n",
    "    <tr>\n",
    "        <th style=\"text-align: center; vertical-align: middle;\">V<sub>1</sub></th>\n",
    "        <th style=\"text-align: center; vertical-align: middle;\">V<sub>2</sub></th>\n",
    "        <th style=\"text-align: center; vertical-align: middle;\">V<sub>1</sub> ou V<sub>2</sub></th>\n",
    "    </tr>\n",
    "    <tr>\n",
    "        <td style=\"text-align: center; vertical-align: middle;\">True</td>\n",
    "        <td style=\"text-align: center; vertical-align: middle;\">True</td>\n",
    "        <td style=\"text-align: center; vertical-align: middle;\">True</td>\n",
    "    </tr>\n",
    "    <tr>\n",
    "        <td style=\"text-align: center; vertical-align: middle;\">True</td>\n",
    "        <td style=\"text-align: center; vertical-align: middle;\">False</td>\n",
    "        <td style=\"text-align: center; vertical-align: middle;\">True</td>\n",
    "    </tr>\n",
    "    <tr>\n",
    "        <td style=\"text-align: center; vertical-align: middle;\">False</td>\n",
    "        <td style=\"text-align: center; vertical-align: middle;\">True</td>\n",
    "        <td style=\"text-align: center; vertical-align: middle;\">True</td>\n",
    "    </tr>\n",
    "    <tr>\n",
    "        <td style=\"text-align: center; vertical-align: middle;\">False</td>\n",
    "        <td style=\"text-align: center; vertical-align: middle;\">False</td>\n",
    "        <td style=\"text-align: center; vertical-align: middle;\">False</td>\n",
    "    </tr>\n",
    "</table>"
   ]
  },
  {
   "cell_type": "markdown",
   "id": "c7dd493f",
   "metadata": {},
   "source": [
    "<div style=\"text-align: justify\">\n",
    "Desta forma, em Python, esta tabela verdade do or pode ser representada da seguinte forma:\n",
    "</div>"
   ]
  },
  {
   "cell_type": "code",
   "execution_count": 49,
   "id": "39e590cf",
   "metadata": {},
   "outputs": [
    {
     "data": {
      "text/plain": [
       "True"
      ]
     },
     "execution_count": 49,
     "metadata": {},
     "output_type": "execute_result"
    }
   ],
   "source": [
    "True or True"
   ]
  },
  {
   "cell_type": "code",
   "execution_count": 50,
   "id": "24797c38",
   "metadata": {},
   "outputs": [
    {
     "data": {
      "text/plain": [
       "True"
      ]
     },
     "execution_count": 50,
     "metadata": {},
     "output_type": "execute_result"
    }
   ],
   "source": [
    "True or False"
   ]
  },
  {
   "cell_type": "code",
   "execution_count": 51,
   "id": "6d56e196",
   "metadata": {},
   "outputs": [
    {
     "data": {
      "text/plain": [
       "True"
      ]
     },
     "execution_count": 51,
     "metadata": {},
     "output_type": "execute_result"
    }
   ],
   "source": [
    "False or True"
   ]
  },
  {
   "cell_type": "code",
   "execution_count": 52,
   "id": "6eb965a6",
   "metadata": {},
   "outputs": [
    {
     "data": {
      "text/plain": [
       "False"
      ]
     },
     "execution_count": 52,
     "metadata": {},
     "output_type": "execute_result"
    }
   ],
   "source": [
    "False or False"
   ]
  },
  {
   "cell_type": "markdown",
   "id": "d83245ea",
   "metadata": {},
   "source": [
    "### Expressões lógicas"
   ]
  },
  {
   "cell_type": "markdown",
   "id": "6d56d782",
   "metadata": {},
   "source": [
    "<div style=\"text-align: justify\">\n",
    "Conhecendo as combinações que os operadores lógicos podem proporcionar, podemos fazer códigos de comparação bem inteligentes. Tal abordagem, permitirá comparar dois ou mais valores, direcionando o fluxo de execução de nossos programas conforme determinadas condições são atendidas. Os operadores lógicos podem ser combinados em expressões lógicas mais complexas. Nesses casos, devemos ter consciência de que existe precedência de avaliação entre operadores. Por exemplo, quando uma expressão está sendo avaliada, a expressão que contiver <strong>not (não)</strong> será avaliado primeiro, seguido do operador <strong>and (e)</strong> e, finalmente, <strong>or (ou)</strong>:\n",
    "</div>"
   ]
  },
  {
   "cell_type": "markdown",
   "id": "1450f611",
   "metadata": {},
   "source": [
    "* True or False and <u>not True</u>\n",
    "* True or <u>False and True</u>\n",
    "* <u>True or False</u>\n",
    "* True"
   ]
  },
  {
   "cell_type": "markdown",
   "id": "04680bce",
   "metadata": {},
   "source": [
    "<div style=\"text-align: justify\">\n",
    "Uma forma mais profissional de se usar operadores lógicos será exemplificada a seguir. Na situação seguinte, coletamos a idade de três pessoas:\n",
    "</div>"
   ]
  },
  {
   "cell_type": "code",
   "execution_count": 53,
   "id": "e6e94f90",
   "metadata": {},
   "outputs": [],
   "source": [
    "pessoa1 = 58\n",
    "pessoa2 = 15\n",
    "pessoa3 = 25"
   ]
  },
  {
   "cell_type": "markdown",
   "id": "d1db7773",
   "metadata": {},
   "source": [
    "<div style=\"text-align: justify\">\n",
    "A partir disso, temos como requisito identificar qual dessas pessoas é menor de idade, considerando que a maioridade no Brasil é para idades iguais ou superiores a 18 anos:\n",
    "</div>"
   ]
  },
  {
   "cell_type": "code",
   "execution_count": 54,
   "id": "bcb399a8",
   "metadata": {},
   "outputs": [],
   "source": [
    "# Idade limite\n",
    "idade_limite = 18"
   ]
  },
  {
   "cell_type": "code",
   "execution_count": 55,
   "id": "f3f365c0",
   "metadata": {},
   "outputs": [
    {
     "name": "stdout",
     "output_type": "stream",
     "text": [
      "A pessoa 1 é maior de idade (58 anos)\n"
     ]
    }
   ],
   "source": [
    "# Pessoa 1\n",
    "if pessoa1 >= idade_limite:\n",
    "    print(\"A pessoa 1 é maior de idade ({pessoa1} anos)\".format(pessoa1=pessoa1))\n",
    "else:\n",
    "    print(\"A pessoa 1 é menor de idade ({pessoa1} anos)\".format(pessoa1=pessoa1))"
   ]
  },
  {
   "cell_type": "code",
   "execution_count": 56,
   "id": "9a6c872a",
   "metadata": {},
   "outputs": [
    {
     "name": "stdout",
     "output_type": "stream",
     "text": [
      "A pessoa 2 é menor de idade (15 anos)\n"
     ]
    }
   ],
   "source": [
    "# Pessoa 2\n",
    "if pessoa2 >= idade_limite:\n",
    "    print(\"A pessoa 2 é maior de idade ({0} anos)\".format(pessoa2))\n",
    "else:\n",
    "    print(\"A pessoa 2 é menor de idade ({0} anos)\".format(pessoa2))"
   ]
  },
  {
   "cell_type": "code",
   "execution_count": 57,
   "id": "f4a28def",
   "metadata": {},
   "outputs": [
    {
     "name": "stdout",
     "output_type": "stream",
     "text": [
      "A pessoa 3 é maior de idade (25 anos)\n"
     ]
    }
   ],
   "source": [
    "# Pessoa 3\n",
    "if pessoa3 >= idade_limite:\n",
    "    print(f\"A pessoa 3 é maior de idade ({pessoa3} anos)\")\n",
    "else:\n",
    "    print(f\"A pessoa 3 é menor de idade ({pessoa3} anos)\")"
   ]
  }
 ],
 "metadata": {
  "kernelspec": {
   "display_name": "Python 3 (ipykernel)",
   "language": "python",
   "name": "python3"
  },
  "language_info": {
   "codemirror_mode": {
    "name": "ipython",
    "version": 3
   },
   "file_extension": ".py",
   "mimetype": "text/x-python",
   "name": "python",
   "nbconvert_exporter": "python",
   "pygments_lexer": "ipython3",
   "version": "3.8.10"
  }
 },
 "nbformat": 4,
 "nbformat_minor": 5
}
