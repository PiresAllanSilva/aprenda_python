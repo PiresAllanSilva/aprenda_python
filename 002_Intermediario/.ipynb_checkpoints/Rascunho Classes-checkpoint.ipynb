{
 "cells": [
  {
   "cell_type": "code",
   "execution_count": 17,
   "id": "1bf39e43",
   "metadata": {},
   "outputs": [],
   "source": [
    "# Exemplo Livro Python e Django: Desenvolvimento Web Moderno Ágil, página 211\n",
    "\n",
    "\"\"\"Classe que representa um produto\"\"\"\n",
    "\n",
    "class Produto:\n",
    "    \n",
    "    def __init__(self, codigo: int,\n",
    "                 descricao: str, preco: float) -> None:\n",
    "        \n",
    "        self.__codigo = codigo\n",
    "        self.__descricao = descricao\n",
    "        self.__preco = preco\n",
    "        self.__quantidade_estoque = 0\n",
    "    \n",
    "    def entrada_estoque(self, quantidade: float) -> None:\n",
    "        self.__quantidade_estoque += quantidade\n",
    "    \n",
    "    def saida_estoque(self, quantidade: float) -> None:\n",
    "        self.__saida_estoque -= quantidade\n",
    "    \n",
    "    def visualizar_quantidade_em_estoque(self) -> None:\n",
    "        print(\n",
    "            f\"A quantidade em estoque é \\\n",
    "            {self.__quantidade_estoque}\"\n",
    "        )\n",
    "    \n",
    "    @property\n",
    "    def codigo(self) -> int:\n",
    "        return self.__codigo\n",
    "    \n",
    "    @property\n",
    "    def descricao(self) -> str:\n",
    "        return self.__descricao\n",
    "    \n",
    "    @descricao.setter\n",
    "    def descricao(self, descricao: str) -> None:\n",
    "        self.__descricao = descricao\n",
    "    \n",
    "    @property\n",
    "    def preco(self) -> float:\n",
    "        print(\"@property de preço acionado ... \")\n",
    "        return self.__preco\n",
    "    \n",
    "    @preco.setter\n",
    "    def preco(self, preco: float) -> None:\n",
    "        if preco <= 0:\n",
    "            print(\n",
    "                \"Erro: preço deve ser um valor positivo.\"\n",
    "            )\n",
    "        else:\n",
    "            print(\"Setter foi chamado ... \")\n",
    "            self.__preco = preco\n",
    "    \n",
    "    @property\n",
    "    def quantidade_estoque(self) -> float:\n",
    "        return self.__quantidade_estoque\n"
   ]
  },
  {
   "cell_type": "code",
   "execution_count": 18,
   "id": "a230145c",
   "metadata": {},
   "outputs": [
    {
     "name": "stdout",
     "output_type": "stream",
     "text": [
      "@property de preço acionado ... \n",
      "574.2\n"
     ]
    }
   ],
   "source": [
    "um_produto = Produto(1, \"Som automotivo\", 574.20)\n",
    "print(um_produto.preco)"
   ]
  },
  {
   "cell_type": "code",
   "execution_count": 19,
   "id": "611c087f",
   "metadata": {},
   "outputs": [
    {
     "name": "stdout",
     "output_type": "stream",
     "text": [
      "Setter foi chamado ... \n",
      "@property de preço acionado ... \n",
      "567.89\n"
     ]
    }
   ],
   "source": [
    "um_produto.preco = 567.89\n",
    "print(um_produto.preco)"
   ]
  },
  {
   "cell_type": "code",
   "execution_count": 20,
   "id": "dff6d158",
   "metadata": {},
   "outputs": [
    {
     "name": "stdout",
     "output_type": "stream",
     "text": [
      "@property de preço acionado ... \n",
      "15.0\n"
     ]
    }
   ],
   "source": [
    "outro_produto = Produto(2, \"Cera líquida\", 15.0)\n",
    "print(outro_produto.preco)"
   ]
  },
  {
   "cell_type": "code",
   "execution_count": null,
   "id": "df829c93",
   "metadata": {},
   "outputs": [],
   "source": []
  }
 ],
 "metadata": {
  "kernelspec": {
   "display_name": "Python 3 (ipykernel)",
   "language": "python",
   "name": "python3"
  },
  "language_info": {
   "codemirror_mode": {
    "name": "ipython",
    "version": 3
   },
   "file_extension": ".py",
   "mimetype": "text/x-python",
   "name": "python",
   "nbconvert_exporter": "python",
   "pygments_lexer": "ipython3",
   "version": "3.8.10"
  }
 },
 "nbformat": 4,
 "nbformat_minor": 5
}
