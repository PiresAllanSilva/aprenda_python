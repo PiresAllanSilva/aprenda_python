{
 "cells": [
  {
   "cell_type": "markdown",
   "id": "1e243578",
   "metadata": {},
   "source": [
    "# Introdução ao conceito de classes\n",
    "\n",
    "### Definindo uma classe simples"
   ]
  },
  {
   "cell_type": "markdown",
   "id": "be94c8dd",
   "metadata": {},
   "source": [
    "De forma geral, classes são formas de representar um problema do mundo real usando código. Em Python, isso muito é simples, embora iniciantes possam sentir alguma dificuldade no início. Vamos começar nosso primeiro exemplo:"
   ]
  },
  {
   "cell_type": "code",
   "execution_count": 1,
   "id": "4a369458",
   "metadata": {},
   "outputs": [
    {
     "name": "stdout",
     "output_type": "stream",
     "text": [
      "Olá, eu sou uma classe que não faz nada!\n"
     ]
    }
   ],
   "source": [
    "class Produto:\n",
    "    print(\"Olá, eu sou uma classe que não faz nada!\")\n",
    "\n",
    "instancia_de_produto = Produto()"
   ]
  },
  {
   "cell_type": "markdown",
   "id": "87f6c20b",
   "metadata": {},
   "source": [
    "No exemplo acima, criamos nossa primeira classe, <strong>Produto</strong>. A plavara reservada <em>class</em> é usada por Python para interpretar classes criadas pelos programadores. Desta forma, internamente, Python saberá que a classe Produto se refere a algo criado por nós neste exemplo. Como não há mais nada definido dentro da classe Produto, a única ação que ocorrerá quando a instanciamos na variável <em>instancia_de_produto</em> é o print com a mensagem: <strong>Olá, eu sou uma classe que não faz nada!</strong>. Dizemos que uma classe é instanciada, quando ocorre a atribuição de sua funcionalidade dentro de uma nova variável, como o que o que ocorreu em com a variável instancia_de_produto acima."
   ]
  },
  {
   "cell_type": "markdown",
   "id": "e0d5b405",
   "metadata": {},
   "source": [
    "### Definindo atributos e métodos em uma classe simples"
   ]
  },
  {
   "cell_type": "code",
   "execution_count": 1,
   "id": "0c697c20",
   "metadata": {},
   "outputs": [],
   "source": [
    "class Produto:\n",
    "    \n",
    "    def __init__(self):\n",
    "        ...\n",
    "    \n",
    "    def codigo_produto(self, codigo: int = 0) -> None:\n",
    "        if isinstance(codigo, int):\n",
    "            if codigo != 0:\n",
    "                print(f\"Código passado pelo usuário foi: {codigo}\")\n",
    "            else:\n",
    "                raise ValueError(\n",
    "                    \"Código passado é igual a zero. Valor inválido.\"\n",
    "                )\n",
    "        else:\n",
    "            raise ValueError(\n",
    "                f\"Código passado é inválido, valor ({codigo}) e tipo ({type(codigo)}) diferente de inteiro.\"\n",
    "            )\n",
    "\n",
    "nova_instancia_de_produto = Produto()"
   ]
  },
  {
   "cell_type": "code",
   "execution_count": 3,
   "id": "da3e2db1",
   "metadata": {},
   "outputs": [
    {
     "name": "stdout",
     "output_type": "stream",
     "text": [
      "Código passado pelo usuário foi: 200\n"
     ]
    }
   ],
   "source": [
    "# Instância de Produto que funciona\n",
    "nova_instancia_de_produto.codigo_produto(200)"
   ]
  },
  {
   "cell_type": "code",
   "execution_count": 4,
   "id": "e9fb4524",
   "metadata": {},
   "outputs": [
    {
     "ename": "ValueError",
     "evalue": "Código passado é igual a zero. Valor inválido.",
     "output_type": "error",
     "traceback": [
      "\u001b[0;31m---------------------------------------------------------------------------\u001b[0m",
      "\u001b[0;31mValueError\u001b[0m                                Traceback (most recent call last)",
      "\u001b[0;32m/tmp/ipykernel_100370/4250556795.py\u001b[0m in \u001b[0;36m<module>\u001b[0;34m\u001b[0m\n\u001b[1;32m      1\u001b[0m \u001b[0;31m# Instância de Produto que NÃO funciona\u001b[0m\u001b[0;34m\u001b[0m\u001b[0;34m\u001b[0m\u001b[0;34m\u001b[0m\u001b[0m\n\u001b[0;32m----> 2\u001b[0;31m \u001b[0mnova_instancia_de_produto\u001b[0m\u001b[0;34m.\u001b[0m\u001b[0mcodigo_produto\u001b[0m\u001b[0;34m(\u001b[0m\u001b[0;36m0\u001b[0m\u001b[0;34m)\u001b[0m\u001b[0;34m\u001b[0m\u001b[0;34m\u001b[0m\u001b[0m\n\u001b[0m",
      "\u001b[0;32m/tmp/ipykernel_100370/1863640559.py\u001b[0m in \u001b[0;36mcodigo_produto\u001b[0;34m(self, codigo)\u001b[0m\n\u001b[1;32m      9\u001b[0m                 \u001b[0mprint\u001b[0m\u001b[0;34m(\u001b[0m\u001b[0;34mf\"Código passado pelo usuário foi: {codigo}\"\u001b[0m\u001b[0;34m)\u001b[0m\u001b[0;34m\u001b[0m\u001b[0;34m\u001b[0m\u001b[0m\n\u001b[1;32m     10\u001b[0m             \u001b[0;32melse\u001b[0m\u001b[0;34m:\u001b[0m\u001b[0;34m\u001b[0m\u001b[0;34m\u001b[0m\u001b[0m\n\u001b[0;32m---> 11\u001b[0;31m                 raise ValueError(\n\u001b[0m\u001b[1;32m     12\u001b[0m                     \u001b[0;34m\"Código passado é igual a zero. Valor inválido.\"\u001b[0m\u001b[0;34m\u001b[0m\u001b[0;34m\u001b[0m\u001b[0m\n\u001b[1;32m     13\u001b[0m                 )\n",
      "\u001b[0;31mValueError\u001b[0m: Código passado é igual a zero. Valor inválido."
     ]
    }
   ],
   "source": [
    "# Instância de Produto que NÃO funciona\n",
    "nova_instancia_de_produto.codigo_produto(0)"
   ]
  },
  {
   "cell_type": "code",
   "execution_count": 5,
   "id": "4ca2a58c",
   "metadata": {},
   "outputs": [
    {
     "ename": "ValueError",
     "evalue": "Código passado é inválido, valor (uma string qualquer) e tipo (<class 'str'>) diferente de inteiro.",
     "output_type": "error",
     "traceback": [
      "\u001b[0;31m---------------------------------------------------------------------------\u001b[0m",
      "\u001b[0;31mValueError\u001b[0m                                Traceback (most recent call last)",
      "\u001b[0;32m/tmp/ipykernel_100370/1226159786.py\u001b[0m in \u001b[0;36m<module>\u001b[0;34m\u001b[0m\n\u001b[1;32m      1\u001b[0m \u001b[0;31m# Instância de Produto que NÃO funciona\u001b[0m\u001b[0;34m\u001b[0m\u001b[0;34m\u001b[0m\u001b[0;34m\u001b[0m\u001b[0m\n\u001b[0;32m----> 2\u001b[0;31m \u001b[0mnova_instancia_de_produto\u001b[0m\u001b[0;34m.\u001b[0m\u001b[0mcodigo_produto\u001b[0m\u001b[0;34m(\u001b[0m\u001b[0;34m\"uma string qualquer\"\u001b[0m\u001b[0;34m)\u001b[0m\u001b[0;34m\u001b[0m\u001b[0;34m\u001b[0m\u001b[0m\n\u001b[0m",
      "\u001b[0;32m/tmp/ipykernel_100370/1863640559.py\u001b[0m in \u001b[0;36mcodigo_produto\u001b[0;34m(self, codigo)\u001b[0m\n\u001b[1;32m     13\u001b[0m                 )\n\u001b[1;32m     14\u001b[0m         \u001b[0;32melse\u001b[0m\u001b[0;34m:\u001b[0m\u001b[0;34m\u001b[0m\u001b[0;34m\u001b[0m\u001b[0m\n\u001b[0;32m---> 15\u001b[0;31m             raise ValueError(\n\u001b[0m\u001b[1;32m     16\u001b[0m                 \u001b[0;34mf\"Código passado é inválido, valor ({codigo}) e tipo ({type(codigo)}) diferente de inteiro.\"\u001b[0m\u001b[0;34m\u001b[0m\u001b[0;34m\u001b[0m\u001b[0m\n\u001b[1;32m     17\u001b[0m             )\n",
      "\u001b[0;31mValueError\u001b[0m: Código passado é inválido, valor (uma string qualquer) e tipo (<class 'str'>) diferente de inteiro."
     ]
    }
   ],
   "source": [
    "# Instância de Produto que NÃO funciona\n",
    "nova_instancia_de_produto.codigo_produto(\"uma string qualquer\")"
   ]
  },
  {
   "cell_type": "code",
   "execution_count": 17,
   "id": "1bf39e43",
   "metadata": {},
   "outputs": [],
   "source": [
    "# Exemplo Livro Python e Django: Desenvolvimento Web Moderno Ágil, página 211\n",
    "\n",
    "\"\"\"Classe que representa um produto\"\"\"\n",
    "\n",
    "class Produto:\n",
    "    \n",
    "    def __init__(self, codigo: int,\n",
    "                 descricao: str, preco: float) -> None:\n",
    "        \n",
    "        self.__codigo = codigo\n",
    "        self.__descricao = descricao\n",
    "        self.__preco = preco\n",
    "        self.__quantidade_estoque = 0\n",
    "    \n",
    "    def entrada_estoque(self, quantidade: float) -> None:\n",
    "        self.__quantidade_estoque += quantidade\n",
    "    \n",
    "    def saida_estoque(self, quantidade: float) -> None:\n",
    "        self.__saida_estoque -= quantidade\n",
    "    \n",
    "    def visualizar_quantidade_em_estoque(self) -> None:\n",
    "        print(\n",
    "            f\"A quantidade em estoque é \\\n",
    "            {self.__quantidade_estoque}\"\n",
    "        )\n",
    "    \n",
    "    @property\n",
    "    def codigo(self) -> int:\n",
    "        return self.__codigo\n",
    "    \n",
    "    @property\n",
    "    def descricao(self) -> str:\n",
    "        return self.__descricao\n",
    "    \n",
    "    @descricao.setter\n",
    "    def descricao(self, descricao: str) -> None:\n",
    "        self.__descricao = descricao\n",
    "    \n",
    "    @property\n",
    "    def preco(self) -> float:\n",
    "        print(\"@property de preço acionado ... \")\n",
    "        return self.__preco\n",
    "    \n",
    "    @preco.setter\n",
    "    def preco(self, preco: float) -> None:\n",
    "        if preco <= 0:\n",
    "            print(\n",
    "                \"Erro: preço deve ser um valor positivo.\"\n",
    "            )\n",
    "        else:\n",
    "            print(\"Setter foi chamado ... \")\n",
    "            self.__preco = preco\n",
    "    \n",
    "    @property\n",
    "    def quantidade_estoque(self) -> float:\n",
    "        return self.__quantidade_estoque\n"
   ]
  },
  {
   "cell_type": "code",
   "execution_count": 18,
   "id": "a230145c",
   "metadata": {},
   "outputs": [
    {
     "name": "stdout",
     "output_type": "stream",
     "text": [
      "@property de preço acionado ... \n",
      "574.2\n"
     ]
    }
   ],
   "source": [
    "um_produto = Produto(1, \"Som automotivo\", 574.20)\n",
    "print(um_produto.preco)"
   ]
  },
  {
   "cell_type": "code",
   "execution_count": 19,
   "id": "611c087f",
   "metadata": {},
   "outputs": [
    {
     "name": "stdout",
     "output_type": "stream",
     "text": [
      "Setter foi chamado ... \n",
      "@property de preço acionado ... \n",
      "567.89\n"
     ]
    }
   ],
   "source": [
    "um_produto.preco = 567.89\n",
    "print(um_produto.preco)"
   ]
  },
  {
   "cell_type": "code",
   "execution_count": 20,
   "id": "dff6d158",
   "metadata": {},
   "outputs": [
    {
     "name": "stdout",
     "output_type": "stream",
     "text": [
      "@property de preço acionado ... \n",
      "15.0\n"
     ]
    }
   ],
   "source": [
    "outro_produto = Produto(2, \"Cera líquida\", 15.0)\n",
    "print(outro_produto.preco)"
   ]
  },
  {
   "cell_type": "code",
   "execution_count": null,
   "id": "df829c93",
   "metadata": {},
   "outputs": [],
   "source": []
  }
 ],
 "metadata": {
  "kernelspec": {
   "display_name": "Python 3 (ipykernel)",
   "language": "python",
   "name": "python3"
  },
  "language_info": {
   "codemirror_mode": {
    "name": "ipython",
    "version": 3
   },
   "file_extension": ".py",
   "mimetype": "text/x-python",
   "name": "python",
   "nbconvert_exporter": "python",
   "pygments_lexer": "ipython3",
   "version": "3.8.10"
  }
 },
 "nbformat": 4,
 "nbformat_minor": 5
}
